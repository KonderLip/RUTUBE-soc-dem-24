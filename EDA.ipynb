{
 "cells": [
  {
   "cell_type": "code",
   "execution_count": 1,
   "id": "89d57cdf",
   "metadata": {},
   "outputs": [],
   "source": [
    "import matplotlib.pyplot as plt\n",
    "import pandas as pd"
   ]
  },
  {
   "cell_type": "markdown",
   "id": "33511df5",
   "metadata": {},
   "source": [
    "# Video info"
   ]
  },
  {
   "cell_type": "markdown",
   "id": "eaf7f531",
   "metadata": {},
   "source": [
    "Есть информация о 481_480, что в целом не является большим числом. Они разделены на 40 категорий, можно все учитывать. Авторов — 125_442, многие из них имеют только одно или мало видео, что не несет много информации. Длительность дана в миллисекундах, а в наборе событий — секундах, надо это учесть.\n",
    "\n",
    "Кроме этого известны названия, они наверняка содержат полезную информацию, для работы с ними будем использовать предобученную языковую модель."
   ]
  },
  {
   "cell_type": "code",
   "execution_count": 2,
   "id": "36de7946",
   "metadata": {},
   "outputs": [
    {
     "data": {
      "text/html": [
       "<div>\n",
       "<style scoped>\n",
       "    .dataframe tbody tr th:only-of-type {\n",
       "        vertical-align: middle;\n",
       "    }\n",
       "\n",
       "    .dataframe tbody tr th {\n",
       "        vertical-align: top;\n",
       "    }\n",
       "\n",
       "    .dataframe thead th {\n",
       "        text-align: right;\n",
       "    }\n",
       "</style>\n",
       "<table border=\"1\" class=\"dataframe\">\n",
       "  <thead>\n",
       "    <tr style=\"text-align: right;\">\n",
       "      <th></th>\n",
       "      <th>rutube_video_id</th>\n",
       "      <th>title</th>\n",
       "      <th>category</th>\n",
       "      <th>duration</th>\n",
       "      <th>author_id</th>\n",
       "    </tr>\n",
       "  </thead>\n",
       "  <tbody>\n",
       "    <tr>\n",
       "      <th>0</th>\n",
       "      <td>video_185549</td>\n",
       "      <td>Как собрать букет из мыльных тюльпанов - Силик...</td>\n",
       "      <td>Хобби</td>\n",
       "      <td>1559</td>\n",
       "      <td>1015054</td>\n",
       "    </tr>\n",
       "    <tr>\n",
       "      <th>1</th>\n",
       "      <td>video_111035</td>\n",
       "      <td>Осторожно, Киберземляне!, 1 сезон, 12 серия</td>\n",
       "      <td>Сериалы</td>\n",
       "      <td>1320</td>\n",
       "      <td>1002180</td>\n",
       "    </tr>\n",
       "    <tr>\n",
       "      <th>2</th>\n",
       "      <td>video_476517</td>\n",
       "      <td>ПОПУЛЯРНЫЕ ВИДЕОИГРЫ в LEGO... перевод - TD BR...</td>\n",
       "      <td>Хобби</td>\n",
       "      <td>606</td>\n",
       "      <td>1095337</td>\n",
       "    </tr>\n",
       "    <tr>\n",
       "      <th>3</th>\n",
       "      <td>video_157198</td>\n",
       "      <td>Хороший лжец (фильм, 2019)</td>\n",
       "      <td>Фильмы</td>\n",
       "      <td>6577</td>\n",
       "      <td>1043618</td>\n",
       "    </tr>\n",
       "    <tr>\n",
       "      <th>4</th>\n",
       "      <td>video_289824</td>\n",
       "      <td>Нашего старого гнобят по-всякому</td>\n",
       "      <td>Развлечения</td>\n",
       "      <td>859</td>\n",
       "      <td>1009535</td>\n",
       "    </tr>\n",
       "    <tr>\n",
       "      <th>...</th>\n",
       "      <td>...</td>\n",
       "      <td>...</td>\n",
       "      <td>...</td>\n",
       "      <td>...</td>\n",
       "      <td>...</td>\n",
       "    </tr>\n",
       "    <tr>\n",
       "      <th>481475</th>\n",
       "      <td>video_196126</td>\n",
       "      <td>14. Landscape Layer Blend</td>\n",
       "      <td>Дизайн</td>\n",
       "      <td>462</td>\n",
       "      <td>1121338</td>\n",
       "    </tr>\n",
       "    <tr>\n",
       "      <th>481476</th>\n",
       "      <td>video_390909</td>\n",
       "      <td>Рихард Штраус: Завтра! — Людмила Рубинская</td>\n",
       "      <td>Музыка</td>\n",
       "      <td>227</td>\n",
       "      <td>1043510</td>\n",
       "    </tr>\n",
       "    <tr>\n",
       "      <th>481477</th>\n",
       "      <td>video_326364</td>\n",
       "      <td>Поймай Тинипин! Королевство эмоций, 2 серия. С...</td>\n",
       "      <td>Мультфильмы</td>\n",
       "      <td>744</td>\n",
       "      <td>1002799</td>\n",
       "    </tr>\n",
       "    <tr>\n",
       "      <th>481478</th>\n",
       "      <td>video_374957</td>\n",
       "      <td>ВОРКУТА. 1 СЕРИЯ. УЖАСЫ. ПСИХОЛОГИЧЕСКИЙ ТРИЛЛЕР</td>\n",
       "      <td>Люди и блоги</td>\n",
       "      <td>2597</td>\n",
       "      <td>1008386</td>\n",
       "    </tr>\n",
       "    <tr>\n",
       "      <th>481479</th>\n",
       "      <td>video_29223</td>\n",
       "      <td>Церемония вручения Национальной детской премии...</td>\n",
       "      <td>Детям</td>\n",
       "      <td>5976</td>\n",
       "      <td>1026149</td>\n",
       "    </tr>\n",
       "  </tbody>\n",
       "</table>\n",
       "<p>481480 rows × 5 columns</p>\n",
       "</div>"
      ],
      "text/plain": [
       "       rutube_video_id                                              title  \\\n",
       "0         video_185549  Как собрать букет из мыльных тюльпанов - Силик...   \n",
       "1         video_111035        Осторожно, Киберземляне!, 1 сезон, 12 серия   \n",
       "2         video_476517  ПОПУЛЯРНЫЕ ВИДЕОИГРЫ в LEGO... перевод - TD BR...   \n",
       "3         video_157198                         Хороший лжец (фильм, 2019)   \n",
       "4         video_289824                   Нашего старого гнобят по-всякому   \n",
       "...                ...                                                ...   \n",
       "481475    video_196126                          14. Landscape Layer Blend   \n",
       "481476    video_390909         Рихард Штраус: Завтра! — Людмила Рубинская   \n",
       "481477    video_326364  Поймай Тинипин! Королевство эмоций, 2 серия. С...   \n",
       "481478    video_374957   ВОРКУТА. 1 СЕРИЯ. УЖАСЫ. ПСИХОЛОГИЧЕСКИЙ ТРИЛЛЕР   \n",
       "481479     video_29223  Церемония вручения Национальной детской премии...   \n",
       "\n",
       "            category  duration  author_id  \n",
       "0              Хобби      1559    1015054  \n",
       "1            Сериалы      1320    1002180  \n",
       "2              Хобби       606    1095337  \n",
       "3             Фильмы      6577    1043618  \n",
       "4        Развлечения       859    1009535  \n",
       "...              ...       ...        ...  \n",
       "481475        Дизайн       462    1121338  \n",
       "481476        Музыка       227    1043510  \n",
       "481477   Мультфильмы       744    1002799  \n",
       "481478  Люди и блоги      2597    1008386  \n",
       "481479         Детям      5976    1026149  \n",
       "\n",
       "[481480 rows x 5 columns]"
      ]
     },
     "execution_count": 2,
     "metadata": {},
     "output_type": "execute_result"
    }
   ],
   "source": [
    "video_info = pd.read_csv(\"./data/video_info_v2.csv\")\n",
    "video_info[\"duration\"] //= 1000\n",
    "video_info"
   ]
  },
  {
   "cell_type": "code",
   "execution_count": 3,
   "id": "aa55557d",
   "metadata": {
    "scrolled": true
   },
   "outputs": [
    {
     "data": {
      "text/plain": [
       "40"
      ]
     },
     "execution_count": 3,
     "metadata": {},
     "output_type": "execute_result"
    }
   ],
   "source": [
    "video_info[\"category\"].nunique()"
   ]
  },
  {
   "cell_type": "code",
   "execution_count": 4,
   "id": "eda28cbb",
   "metadata": {},
   "outputs": [
    {
     "data": {
      "text/plain": [
       "Разное                          141342\n",
       "Сериалы                          49860\n",
       "Телепередачи                     35510\n",
       "Видеоигры                        33585\n",
       "Музыка                           27295\n",
       "Развлечения                      22506\n",
       "Фильмы                           16579\n",
       "Обучение                         13206\n",
       "Лайфстайл                        12438\n",
       "Юмор                             10281\n",
       "Детям                            10227\n",
       "Авто-мото                         8212\n",
       "Аниме                             7504\n",
       "Спорт                             7490\n",
       "Интервью                          7115\n",
       "Мультфильмы                       6374\n",
       "Еда                               5788\n",
       "Эзотерика                         5765\n",
       "Путешествия                       5481\n",
       "Технологии и интернет             5044\n",
       "Хобби                             4744\n",
       "Культура                          4301\n",
       "Техника и оборудование            4223\n",
       "Аудиокниги                        3880\n",
       "Здоровье                          3518\n",
       "Психология                        3164\n",
       "Обзоры и распаковки товаров       2968\n",
       "Наука                             2823\n",
       "Бизнес и предпринимательство      2555\n",
       "Строительство и ремонт            2421\n",
       "Люди и блоги                      2192\n",
       "Животные                          2131\n",
       "Сад и огород                      1923\n",
       "Охота и рыбалка                   1879\n",
       "Лайфхаки                          1827\n",
       "Красота                           1795\n",
       "Природа                           1294\n",
       "Аудио                             1125\n",
       "Недвижимость                       631\n",
       "Дизайн                             484\n",
       "Name: category, dtype: int64"
      ]
     },
     "execution_count": 4,
     "metadata": {},
     "output_type": "execute_result"
    }
   ],
   "source": [
    "video_info[\"category\"].value_counts()"
   ]
  },
  {
   "cell_type": "code",
   "execution_count": 5,
   "id": "7d0593d2",
   "metadata": {},
   "outputs": [
    {
     "data": {
      "text/plain": [
       "125442"
      ]
     },
     "execution_count": 5,
     "metadata": {},
     "output_type": "execute_result"
    }
   ],
   "source": [
    "video_info[\"author_id\"].nunique()"
   ]
  },
  {
   "cell_type": "code",
   "execution_count": 6,
   "id": "13e72bbe",
   "metadata": {},
   "outputs": [
    {
     "data": {
      "text/plain": [
       "1095392    8603\n",
       "1043618    8277\n",
       "1009219    7391\n",
       "1048955    5638\n",
       "1000015    5308\n",
       "           ... \n",
       "1026823       1\n",
       "1108769       1\n",
       "1008028       1\n",
       "1076567       1\n",
       "1007868       1\n",
       "Name: author_id, Length: 125442, dtype: int64"
      ]
     },
     "execution_count": 6,
     "metadata": {},
     "output_type": "execute_result"
    }
   ],
   "source": [
    "video_info[\"author_id\"].value_counts()"
   ]
  },
  {
   "cell_type": "code",
   "execution_count": 7,
   "id": "9dd4f93f",
   "metadata": {},
   "outputs": [
    {
     "data": {
      "text/plain": [
       "count    481480\n",
       "mean       1660\n",
       "std        2582\n",
       "min         180\n",
       "25%         347\n",
       "50%         816\n",
       "75%        2340\n",
       "max       89244\n",
       "Name: duration, dtype: int32"
      ]
     },
     "execution_count": 7,
     "metadata": {},
     "output_type": "execute_result"
    }
   ],
   "source": [
    "video_info[\"duration\"].describe().astype(int)"
   ]
  },
  {
   "cell_type": "markdown",
   "id": "01d41614",
   "metadata": {},
   "source": [
    "## Train events"
   ]
  },
  {
   "cell_type": "code",
   "execution_count": 8,
   "id": "4752a91f",
   "metadata": {},
   "outputs": [
    {
     "data": {
      "text/html": [
       "<div>\n",
       "<style scoped>\n",
       "    .dataframe tbody tr th:only-of-type {\n",
       "        vertical-align: middle;\n",
       "    }\n",
       "\n",
       "    .dataframe tbody tr th {\n",
       "        vertical-align: top;\n",
       "    }\n",
       "\n",
       "    .dataframe thead th {\n",
       "        text-align: right;\n",
       "    }\n",
       "</style>\n",
       "<table border=\"1\" class=\"dataframe\">\n",
       "  <thead>\n",
       "    <tr style=\"text-align: right;\">\n",
       "      <th></th>\n",
       "      <th>event_timestamp</th>\n",
       "      <th>region</th>\n",
       "      <th>ua_device_type</th>\n",
       "      <th>ua_client_type</th>\n",
       "      <th>ua_os</th>\n",
       "      <th>ua_client_name</th>\n",
       "      <th>total_watchtime</th>\n",
       "      <th>rutube_video_id</th>\n",
       "      <th>viewer_uid</th>\n",
       "    </tr>\n",
       "  </thead>\n",
       "  <tbody>\n",
       "    <tr>\n",
       "      <th>0</th>\n",
       "      <td>2024-06-01 06:40:58+03:00</td>\n",
       "      <td>Chelyabinsk</td>\n",
       "      <td>desktop</td>\n",
       "      <td>browser</td>\n",
       "      <td>Windows</td>\n",
       "      <td>Yandex Browser</td>\n",
       "      <td>1883</td>\n",
       "      <td>video_133074</td>\n",
       "      <td>10067243</td>\n",
       "    </tr>\n",
       "    <tr>\n",
       "      <th>1</th>\n",
       "      <td>2024-06-01 19:33:24+03:00</td>\n",
       "      <td>Bashkortostan Republic</td>\n",
       "      <td>smartphone</td>\n",
       "      <td>mobile app</td>\n",
       "      <td>Android</td>\n",
       "      <td>Rutube</td>\n",
       "      <td>512</td>\n",
       "      <td>video_362960</td>\n",
       "      <td>10245341</td>\n",
       "    </tr>\n",
       "    <tr>\n",
       "      <th>2</th>\n",
       "      <td>2024-06-01 21:30:43+03:00</td>\n",
       "      <td>St.-Petersburg</td>\n",
       "      <td>desktop</td>\n",
       "      <td>browser</td>\n",
       "      <td>Windows</td>\n",
       "      <td>Chrome</td>\n",
       "      <td>5647</td>\n",
       "      <td>video_96775</td>\n",
       "      <td>10894333</td>\n",
       "    </tr>\n",
       "    <tr>\n",
       "      <th>3</th>\n",
       "      <td>2024-06-01 23:03:42+03:00</td>\n",
       "      <td>Moscow</td>\n",
       "      <td>smartphone</td>\n",
       "      <td>mobile app</td>\n",
       "      <td>Android</td>\n",
       "      <td>Rutube</td>\n",
       "      <td>1521</td>\n",
       "      <td>video_161610</td>\n",
       "      <td>10029092</td>\n",
       "    </tr>\n",
       "    <tr>\n",
       "      <th>4</th>\n",
       "      <td>2024-06-01 22:48:09+03:00</td>\n",
       "      <td>Moscow</td>\n",
       "      <td>smartphone</td>\n",
       "      <td>mobile app</td>\n",
       "      <td>Android</td>\n",
       "      <td>Rutube</td>\n",
       "      <td>71</td>\n",
       "      <td>video_116245</td>\n",
       "      <td>10452976</td>\n",
       "    </tr>\n",
       "    <tr>\n",
       "      <th>...</th>\n",
       "      <td>...</td>\n",
       "      <td>...</td>\n",
       "      <td>...</td>\n",
       "      <td>...</td>\n",
       "      <td>...</td>\n",
       "      <td>...</td>\n",
       "      <td>...</td>\n",
       "      <td>...</td>\n",
       "      <td>...</td>\n",
       "    </tr>\n",
       "    <tr>\n",
       "      <th>1759611</th>\n",
       "      <td>2024-06-30 17:08:36+03:00</td>\n",
       "      <td>Moscow</td>\n",
       "      <td>smartphone</td>\n",
       "      <td>mobile app</td>\n",
       "      <td>Android</td>\n",
       "      <td>Rutube</td>\n",
       "      <td>4230</td>\n",
       "      <td>video_162776</td>\n",
       "      <td>10026914</td>\n",
       "    </tr>\n",
       "    <tr>\n",
       "      <th>1759612</th>\n",
       "      <td>2024-06-30 01:20:16+03:00</td>\n",
       "      <td>Moscow</td>\n",
       "      <td>smartphone</td>\n",
       "      <td>browser</td>\n",
       "      <td>Android</td>\n",
       "      <td>Firefox Mobile</td>\n",
       "      <td>382</td>\n",
       "      <td>video_316157</td>\n",
       "      <td>10417567</td>\n",
       "    </tr>\n",
       "    <tr>\n",
       "      <th>1759613</th>\n",
       "      <td>2024-06-30 22:37:04+03:00</td>\n",
       "      <td>St.-Petersburg</td>\n",
       "      <td>desktop</td>\n",
       "      <td>browser</td>\n",
       "      <td>Windows</td>\n",
       "      <td>Microsoft Edge</td>\n",
       "      <td>1342</td>\n",
       "      <td>video_83304</td>\n",
       "      <td>10009094</td>\n",
       "    </tr>\n",
       "    <tr>\n",
       "      <th>1759614</th>\n",
       "      <td>2024-06-30 11:33:09+03:00</td>\n",
       "      <td>St.-Petersburg</td>\n",
       "      <td>smartphone</td>\n",
       "      <td>mobile app</td>\n",
       "      <td>Android</td>\n",
       "      <td>Rutube</td>\n",
       "      <td>801</td>\n",
       "      <td>video_132769</td>\n",
       "      <td>10574374</td>\n",
       "    </tr>\n",
       "    <tr>\n",
       "      <th>1759615</th>\n",
       "      <td>2024-06-30 23:51:52+03:00</td>\n",
       "      <td>Chelyabinsk</td>\n",
       "      <td>smartphone</td>\n",
       "      <td>mobile app</td>\n",
       "      <td>Android</td>\n",
       "      <td>Rutube</td>\n",
       "      <td>474</td>\n",
       "      <td>video_19793</td>\n",
       "      <td>10851586</td>\n",
       "    </tr>\n",
       "  </tbody>\n",
       "</table>\n",
       "<p>1759616 rows × 9 columns</p>\n",
       "</div>"
      ],
      "text/plain": [
       "                   event_timestamp                  region ua_device_type  \\\n",
       "0        2024-06-01 06:40:58+03:00             Chelyabinsk        desktop   \n",
       "1        2024-06-01 19:33:24+03:00  Bashkortostan Republic     smartphone   \n",
       "2        2024-06-01 21:30:43+03:00          St.-Petersburg        desktop   \n",
       "3        2024-06-01 23:03:42+03:00                  Moscow     smartphone   \n",
       "4        2024-06-01 22:48:09+03:00                  Moscow     smartphone   \n",
       "...                            ...                     ...            ...   \n",
       "1759611  2024-06-30 17:08:36+03:00                  Moscow     smartphone   \n",
       "1759612  2024-06-30 01:20:16+03:00                  Moscow     smartphone   \n",
       "1759613  2024-06-30 22:37:04+03:00          St.-Petersburg        desktop   \n",
       "1759614  2024-06-30 11:33:09+03:00          St.-Petersburg     smartphone   \n",
       "1759615  2024-06-30 23:51:52+03:00             Chelyabinsk     smartphone   \n",
       "\n",
       "        ua_client_type    ua_os  ua_client_name  total_watchtime  \\\n",
       "0              browser  Windows  Yandex Browser             1883   \n",
       "1           mobile app  Android          Rutube              512   \n",
       "2              browser  Windows          Chrome             5647   \n",
       "3           mobile app  Android          Rutube             1521   \n",
       "4           mobile app  Android          Rutube               71   \n",
       "...                ...      ...             ...              ...   \n",
       "1759611     mobile app  Android          Rutube             4230   \n",
       "1759612        browser  Android  Firefox Mobile              382   \n",
       "1759613        browser  Windows  Microsoft Edge             1342   \n",
       "1759614     mobile app  Android          Rutube              801   \n",
       "1759615     mobile app  Android          Rutube              474   \n",
       "\n",
       "        rutube_video_id  viewer_uid  \n",
       "0          video_133074    10067243  \n",
       "1          video_362960    10245341  \n",
       "2           video_96775    10894333  \n",
       "3          video_161610    10029092  \n",
       "4          video_116245    10452976  \n",
       "...                 ...         ...  \n",
       "1759611    video_162776    10026914  \n",
       "1759612    video_316157    10417567  \n",
       "1759613     video_83304    10009094  \n",
       "1759614    video_132769    10574374  \n",
       "1759615     video_19793    10851586  \n",
       "\n",
       "[1759616 rows x 9 columns]"
      ]
     },
     "execution_count": 8,
     "metadata": {},
     "output_type": "execute_result"
    }
   ],
   "source": [
    "events = pd.read_csv(\"./data/train_events.csv\", parse_dates=True)\n",
    "events"
   ]
  },
  {
   "cell_type": "markdown",
   "id": "85f85516",
   "metadata": {},
   "source": [
    "даны события за один месяц"
   ]
  },
  {
   "cell_type": "code",
   "execution_count": 9,
   "id": "5c69e4dd",
   "metadata": {},
   "outputs": [
    {
     "data": {
      "text/plain": [
       "('2024-06-01 00:00:02+03:00', '2024-06-30 23:59:26+03:00')"
      ]
     },
     "execution_count": 9,
     "metadata": {},
     "output_type": "execute_result"
    }
   ],
   "source": [
    "events[\"event_timestamp\"].min(), events[\"event_timestamp\"].max()"
   ]
  },
  {
   "cell_type": "markdown",
   "id": "70e9c2f0",
   "metadata": {},
   "source": [
    "116 регионов, есть редкие"
   ]
  },
  {
   "cell_type": "code",
   "execution_count": 10,
   "id": "ed0ab64c",
   "metadata": {},
   "outputs": [
    {
     "data": {
      "text/plain": [
       "region\n",
       "Moscow                    69571\n",
       "Moscow Oblast             27115\n",
       "St.-Petersburg            23707\n",
       "Sverdlovsk Oblast          9974\n",
       "Bashkortostan Republic     9182\n",
       "                          ...  \n",
       "Astrakhan                    21\n",
       "Nenets                       18\n",
       "Ingushetiya Republic         18\n",
       "Stavropol Krai               13\n",
       "Arkhangelsk Oblast            3\n",
       "Name: viewer_uid, Length: 116, dtype: int64"
      ]
     },
     "execution_count": 10,
     "metadata": {},
     "output_type": "execute_result"
    }
   ],
   "source": [
    "events.groupby(\"region\")[\"viewer_uid\"].nunique().sort_values(ascending=False)"
   ]
  },
  {
   "cell_type": "markdown",
   "id": "7834a553",
   "metadata": {},
   "source": [
    "у этих всего 3 различных значения\n",
    "\n",
    "\"av\" не стоит учитывать"
   ]
  },
  {
   "cell_type": "code",
   "execution_count": 11,
   "id": "b80587af",
   "metadata": {},
   "outputs": [
    {
     "data": {
      "text/plain": [
       "ua_device_type\n",
       "smartphone    123650\n",
       "desktop        61331\n",
       "tablet         18559\n",
       "Name: viewer_uid, dtype: int64"
      ]
     },
     "execution_count": 11,
     "metadata": {},
     "output_type": "execute_result"
    }
   ],
   "source": [
    "events.groupby(\"ua_device_type\")[\"viewer_uid\"].nunique().sort_values(ascending=False)"
   ]
  },
  {
   "cell_type": "code",
   "execution_count": 12,
   "id": "d5a5f4e3",
   "metadata": {},
   "outputs": [
    {
     "data": {
      "text/plain": [
       "ua_client_type\n",
       "browser       97883\n",
       "mobile app    91527\n",
       "av                4\n",
       "Name: viewer_uid, dtype: int64"
      ]
     },
     "execution_count": 12,
     "metadata": {},
     "output_type": "execute_result"
    }
   ],
   "source": [
    "events.groupby(\"ua_client_type\")[\"viewer_uid\"].nunique().sort_values(ascending=False)"
   ]
  },
  {
   "cell_type": "markdown",
   "id": "e8a6c7ea",
   "metadata": {},
   "source": [
    "здесь различных значения побольше, все равно уберем редкие"
   ]
  },
  {
   "cell_type": "code",
   "execution_count": 13,
   "id": "1479a8b6",
   "metadata": {},
   "outputs": [
    {
     "data": {
      "text/plain": [
       "ua_os\n",
       "Android                 117812\n",
       "Windows                  52742\n",
       "iOS                      15717\n",
       "Mac                       8358\n",
       "GNU/Linux                 3495\n",
       "iPadOS                     285\n",
       "Windows Phone              251\n",
       "Ubuntu                     176\n",
       "MeeGo                       62\n",
       "BlackBerry OS               59\n",
       "Fire OS                     57\n",
       "BlackBerry Tablet OS        53\n",
       "Windows CE                  50\n",
       "KaiOS                       19\n",
       "android tv                  16\n",
       "MocorDroid                  12\n",
       "Windows RT                   9\n",
       "Symbian                      9\n",
       "Symbian OS Series 60         5\n",
       "HarmonyOS                    3\n",
       "Chrome OS                    2\n",
       "NetBSD                       1\n",
       "SUSE                         1\n",
       "OpenBSD                      1\n",
       "Fedora                       1\n",
       "Debian                       1\n",
       "CentOS                       1\n",
       "wear os                      1\n",
       "Name: viewer_uid, dtype: int64"
      ]
     },
     "execution_count": 13,
     "metadata": {},
     "output_type": "execute_result"
    }
   ],
   "source": [
    "events.groupby(\"ua_os\")[\"viewer_uid\"].nunique().sort_values(ascending=False)"
   ]
  },
  {
   "cell_type": "code",
   "execution_count": 14,
   "id": "033c7947",
   "metadata": {},
   "outputs": [
    {
     "data": {
      "text/plain": [
       "ua_client_name\n",
       "Rutube                        91087\n",
       "Yandex Browser                30331\n",
       "Chrome                        25335\n",
       "Chrome Mobile                 21335\n",
       "Firefox Mobile                12880\n",
       "Mobile Safari                 11677\n",
       "Microsoft Edge                 4803\n",
       "Firefox                        3556\n",
       "Safari                         3502\n",
       "Opera                          2956\n",
       "Chrome Mobile iOS              2516\n",
       "Android Browser                 847\n",
       "Opera Mini                      580\n",
       "Opera Mobile                    418\n",
       "Samsung Browser                 404\n",
       "Google Search App               351\n",
       "Chrome Webview                  321\n",
       "MIUI Browser                    267\n",
       "Atom                            258\n",
       "Internet Explorer               170\n",
       "Huawei Browser Mobile           131\n",
       "Opera GX                        118\n",
       "Opera Touch                      82\n",
       "BlackBerry Browser               73\n",
       "RDDocuments                      66\n",
       "IE Mobile                        64\n",
       "Nokia Browser                    62\n",
       "Mobile Silk                      56\n",
       "Avast Secure Browser             44\n",
       "AdBlock Browser                  43\n",
       "Yandex Browser Lite              35\n",
       "Chromium                         28\n",
       "DuckDuckGo Privacy Browser       23\n",
       "Firefox Mobile iOS               16\n",
       "Microsoft Bing Search            14\n",
       "UC Browser                       13\n",
       "CoolBrowser                      11\n",
       "Iron                             10\n",
       "Firefox Focus                     8\n",
       "WeChat                            6\n",
       "SberBrowser                       6\n",
       "vivo Browser                      6\n",
       "Aloha Browser                     5\n",
       "Facebook                          5\n",
       "Avast                             4\n",
       "Chromium GOST                     3\n",
       "QtWebEngine                       3\n",
       "AVG Secure Browser                2\n",
       "Smart Lenovo Browser              2\n",
       "Mint Browser                      1\n",
       "Whale Browser                     1\n",
       "Chrome Frame                      1\n",
       "Vivaldi                           1\n",
       "Soul Browser                      1\n",
       "Stargon                           1\n",
       "QQ Browser                        1\n",
       "Ecosia                            1\n",
       "HeyTapBrowser                     1\n",
       "Hi Browser                        1\n",
       "360 Secure Browser                1\n",
       "Name: viewer_uid, dtype: int64"
      ]
     },
     "execution_count": 14,
     "metadata": {},
     "output_type": "execute_result"
    }
   ],
   "source": [
    "events.groupby(\"ua_client_name\")[\"viewer_uid\"].nunique().sort_values(ascending=False)"
   ]
  },
  {
   "cell_type": "markdown",
   "id": "bf3e085e",
   "metadata": {},
   "source": [
    "в истории встретилось 126_248 видео из 481_480, т.е. только четверть попала в обучение"
   ]
  },
  {
   "cell_type": "code",
   "execution_count": 15,
   "id": "e1800aaf",
   "metadata": {},
   "outputs": [
    {
     "data": {
      "text/plain": [
       "126248"
      ]
     },
     "execution_count": 15,
     "metadata": {},
     "output_type": "execute_result"
    }
   ],
   "source": [
    "events[\"rutube_video_id\"].nunique()"
   ]
  },
  {
   "cell_type": "markdown",
   "id": "b8b272a5",
   "metadata": {},
   "source": [
    "видно что у большенства пользователей малая история просмотра, меньше 64 у 98%, но есть и те, кто смотрел много видео"
   ]
  },
  {
   "cell_type": "code",
   "execution_count": 16,
   "id": "a1f40943",
   "metadata": {},
   "outputs": [
    {
     "data": {
      "text/plain": [
       "[<matplotlib.lines.Line2D at 0x17d33d5aac0>]"
      ]
     },
     "execution_count": 16,
     "metadata": {},
     "output_type": "execute_result"
    },
    {
     "data": {
      "image/png": "[encoded data removed]",
      "text/plain": [
       "<Figure size 432x288 with 1 Axes>"
      ]
     },
     "metadata": {
      "needs_background": "light"
     },
     "output_type": "display_data"
    }
   ],
   "source": [
    "plt.plot(events[\"viewer_uid\"].value_counts().values[::-1])"
   ]
  },
  {
   "cell_type": "code",
   "execution_count": 17,
   "id": "e5a7bee8",
   "metadata": {},
   "outputs": [
    {
     "data": {
      "text/plain": [
       "1      36337\n",
       "2      24342\n",
       "3      18406\n",
       "4      14442\n",
       "5      11168\n",
       "       ...  \n",
       "142        1\n",
       "140        1\n",
       "137        1\n",
       "133        1\n",
       "401        1\n",
       "Name: viewer_uid, Length: 165, dtype: int64"
      ]
     },
     "execution_count": 17,
     "metadata": {},
     "output_type": "execute_result"
    }
   ],
   "source": [
    "events[\"viewer_uid\"].value_counts().value_counts()"
   ]
  },
  {
   "cell_type": "markdown",
   "id": "4c5cb21b",
   "metadata": {},
   "source": [
    "# All events"
   ]
  },
  {
   "cell_type": "code",
   "execution_count": 18,
   "id": "b11bdf7b",
   "metadata": {},
   "outputs": [
    {
     "data": {
      "text/html": [
       "<div>\n",
       "<style scoped>\n",
       "    .dataframe tbody tr th:only-of-type {\n",
       "        vertical-align: middle;\n",
       "    }\n",
       "\n",
       "    .dataframe tbody tr th {\n",
       "        vertical-align: top;\n",
       "    }\n",
       "\n",
       "    .dataframe thead th {\n",
       "        text-align: right;\n",
       "    }\n",
       "</style>\n",
       "<table border=\"1\" class=\"dataframe\">\n",
       "  <thead>\n",
       "    <tr style=\"text-align: right;\">\n",
       "      <th></th>\n",
       "      <th>event_timestamp</th>\n",
       "      <th>region</th>\n",
       "      <th>ua_device_type</th>\n",
       "      <th>ua_client_type</th>\n",
       "      <th>ua_os</th>\n",
       "      <th>ua_client_name</th>\n",
       "      <th>total_watchtime</th>\n",
       "      <th>rutube_video_id</th>\n",
       "      <th>viewer_uid</th>\n",
       "    </tr>\n",
       "  </thead>\n",
       "  <tbody>\n",
       "    <tr>\n",
       "      <th>0</th>\n",
       "      <td>2024-06-01 13:08:30+03:00</td>\n",
       "      <td>Tatarstan Republic</td>\n",
       "      <td>smartphone</td>\n",
       "      <td>browser</td>\n",
       "      <td>Android</td>\n",
       "      <td>Chrome Mobile</td>\n",
       "      <td>60</td>\n",
       "      <td>video_395879</td>\n",
       "      <td>10813370</td>\n",
       "    </tr>\n",
       "    <tr>\n",
       "      <th>1</th>\n",
       "      <td>2024-06-01 14:30:00+03:00</td>\n",
       "      <td>Bashkortostan Republic</td>\n",
       "      <td>smartphone</td>\n",
       "      <td>mobile app</td>\n",
       "      <td>Android</td>\n",
       "      <td>Rutube</td>\n",
       "      <td>60</td>\n",
       "      <td>video_216518</td>\n",
       "      <td>10512324</td>\n",
       "    </tr>\n",
       "    <tr>\n",
       "      <th>2</th>\n",
       "      <td>2024-06-01 18:48:12+03:00</td>\n",
       "      <td>Novosibirsk Oblast</td>\n",
       "      <td>smartphone</td>\n",
       "      <td>mobile app</td>\n",
       "      <td>Android</td>\n",
       "      <td>Rutube</td>\n",
       "      <td>121</td>\n",
       "      <td>video_41225</td>\n",
       "      <td>10951137</td>\n",
       "    </tr>\n",
       "    <tr>\n",
       "      <th>3</th>\n",
       "      <td>2024-06-01 16:32:36+03:00</td>\n",
       "      <td>Moscow</td>\n",
       "      <td>desktop</td>\n",
       "      <td>browser</td>\n",
       "      <td>Windows</td>\n",
       "      <td>Yandex Browser</td>\n",
       "      <td>2324</td>\n",
       "      <td>video_215886</td>\n",
       "      <td>10912434</td>\n",
       "    </tr>\n",
       "    <tr>\n",
       "      <th>4</th>\n",
       "      <td>2024-06-01 00:57:04+03:00</td>\n",
       "      <td>Moscow Oblast</td>\n",
       "      <td>smartphone</td>\n",
       "      <td>mobile app</td>\n",
       "      <td>Android</td>\n",
       "      <td>Rutube</td>\n",
       "      <td>6830</td>\n",
       "      <td>video_43631</td>\n",
       "      <td>10223585</td>\n",
       "    </tr>\n",
       "    <tr>\n",
       "      <th>...</th>\n",
       "      <td>...</td>\n",
       "      <td>...</td>\n",
       "      <td>...</td>\n",
       "      <td>...</td>\n",
       "      <td>...</td>\n",
       "      <td>...</td>\n",
       "      <td>...</td>\n",
       "      <td>...</td>\n",
       "      <td>...</td>\n",
       "    </tr>\n",
       "    <tr>\n",
       "      <th>8439619</th>\n",
       "      <td>2024-06-30 18:12:06+03:00</td>\n",
       "      <td>Nizhny Novgorod Oblast</td>\n",
       "      <td>smartphone</td>\n",
       "      <td>mobile app</td>\n",
       "      <td>Android</td>\n",
       "      <td>Rutube</td>\n",
       "      <td>1735</td>\n",
       "      <td>video_163270</td>\n",
       "      <td>10687999</td>\n",
       "    </tr>\n",
       "    <tr>\n",
       "      <th>8439620</th>\n",
       "      <td>2024-06-30 09:23:08+03:00</td>\n",
       "      <td>Chelyabinsk</td>\n",
       "      <td>smartphone</td>\n",
       "      <td>mobile app</td>\n",
       "      <td>Android</td>\n",
       "      <td>Rutube</td>\n",
       "      <td>4766</td>\n",
       "      <td>video_433627</td>\n",
       "      <td>10425804</td>\n",
       "    </tr>\n",
       "    <tr>\n",
       "      <th>8439621</th>\n",
       "      <td>2024-06-30 10:57:36+03:00</td>\n",
       "      <td>Krasnodar Krai</td>\n",
       "      <td>smartphone</td>\n",
       "      <td>mobile app</td>\n",
       "      <td>Android</td>\n",
       "      <td>Rutube</td>\n",
       "      <td>890</td>\n",
       "      <td>video_11911</td>\n",
       "      <td>10565147</td>\n",
       "    </tr>\n",
       "    <tr>\n",
       "      <th>8439622</th>\n",
       "      <td>2024-06-30 18:16:55+03:00</td>\n",
       "      <td>Moscow</td>\n",
       "      <td>smartphone</td>\n",
       "      <td>browser</td>\n",
       "      <td>Android</td>\n",
       "      <td>Yandex Browser</td>\n",
       "      <td>2504</td>\n",
       "      <td>video_252573</td>\n",
       "      <td>10715847</td>\n",
       "    </tr>\n",
       "    <tr>\n",
       "      <th>8439623</th>\n",
       "      <td>2024-06-30 01:02:17+03:00</td>\n",
       "      <td>Krasnodar Krai</td>\n",
       "      <td>smartphone</td>\n",
       "      <td>mobile app</td>\n",
       "      <td>Android</td>\n",
       "      <td>Rutube</td>\n",
       "      <td>3601</td>\n",
       "      <td>video_477884</td>\n",
       "      <td>10914672</td>\n",
       "    </tr>\n",
       "  </tbody>\n",
       "</table>\n",
       "<p>8439624 rows × 9 columns</p>\n",
       "</div>"
      ],
      "text/plain": [
       "                   event_timestamp                  region ua_device_type  \\\n",
       "0        2024-06-01 13:08:30+03:00      Tatarstan Republic     smartphone   \n",
       "1        2024-06-01 14:30:00+03:00  Bashkortostan Republic     smartphone   \n",
       "2        2024-06-01 18:48:12+03:00      Novosibirsk Oblast     smartphone   \n",
       "3        2024-06-01 16:32:36+03:00                  Moscow        desktop   \n",
       "4        2024-06-01 00:57:04+03:00           Moscow Oblast     smartphone   \n",
       "...                            ...                     ...            ...   \n",
       "8439619  2024-06-30 18:12:06+03:00  Nizhny Novgorod Oblast     smartphone   \n",
       "8439620  2024-06-30 09:23:08+03:00             Chelyabinsk     smartphone   \n",
       "8439621  2024-06-30 10:57:36+03:00          Krasnodar Krai     smartphone   \n",
       "8439622  2024-06-30 18:16:55+03:00                  Moscow     smartphone   \n",
       "8439623  2024-06-30 01:02:17+03:00          Krasnodar Krai     smartphone   \n",
       "\n",
       "        ua_client_type    ua_os  ua_client_name  total_watchtime  \\\n",
       "0              browser  Android   Chrome Mobile               60   \n",
       "1           mobile app  Android          Rutube               60   \n",
       "2           mobile app  Android          Rutube              121   \n",
       "3              browser  Windows  Yandex Browser             2324   \n",
       "4           mobile app  Android          Rutube             6830   \n",
       "...                ...      ...             ...              ...   \n",
       "8439619     mobile app  Android          Rutube             1735   \n",
       "8439620     mobile app  Android          Rutube             4766   \n",
       "8439621     mobile app  Android          Rutube              890   \n",
       "8439622        browser  Android  Yandex Browser             2504   \n",
       "8439623     mobile app  Android          Rutube             3601   \n",
       "\n",
       "        rutube_video_id  viewer_uid  \n",
       "0          video_395879    10813370  \n",
       "1          video_216518    10512324  \n",
       "2           video_41225    10951137  \n",
       "3          video_215886    10912434  \n",
       "4           video_43631    10223585  \n",
       "...                 ...         ...  \n",
       "8439619    video_163270    10687999  \n",
       "8439620    video_433627    10425804  \n",
       "8439621     video_11911    10565147  \n",
       "8439622    video_252573    10715847  \n",
       "8439623    video_477884    10914672  \n",
       "\n",
       "[8439624 rows x 9 columns]"
      ]
     },
     "execution_count": 18,
     "metadata": {},
     "output_type": "execute_result"
    }
   ],
   "source": [
    "all_events = pd.read_csv(\"./data/all_events.csv\", parse_dates=True)\n",
    "all_events"
   ]
  },
  {
   "cell_type": "markdown",
   "id": "28288949",
   "metadata": {},
   "source": [
    "Также известны события для неразмеченных пользователей, их аж в 8 раз больше. Можно использовать для предобучения нейросетей."
   ]
  }
 ],
 "metadata": {
  "finalized": {
   "timestamp": 1727590537091,
   "trusted": true
  },
  "kernelspec": {
   "display_name": "Python 3 (ipykernel)",
   "language": "python",
   "name": "python3"
  },
  "language_info": {
   "codemirror_mode": {
    "name": "ipython",
    "version": 3
   },
   "file_extension": ".py",
   "mimetype": "text/x-python",
   "name": "python",
   "nbconvert_exporter": "python",
   "pygments_lexer": "ipython3",
   "version": "3.8.13"
  },
  "widgets": {
   "application/vnd.jupyter.widget-state+json": {
    "state": {},
    "version_major": 2,
    "version_minor": 0
   }
  }
 },
 "nbformat": 4,
 "nbformat_minor": 5
}
