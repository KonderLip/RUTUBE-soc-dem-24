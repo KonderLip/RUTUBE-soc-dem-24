{
 "cells": [
  {
   "cell_type": "markdown",
   "id": "fba02278",
   "metadata": {},
   "source": [
    "# Libraries"
   ]
  },
  {
   "cell_type": "code",
   "execution_count": 1,
   "id": "1f763126",
   "metadata": {},
   "outputs": [],
   "source": [
    "from sklearn.model_selection import train_test_split\n",
    "\n",
    "import polars as pl\n",
    "\n",
    "import torch\n",
    "from torch import nn\n",
    "\n",
    "from transformers import BertConfig, BertForSequenceClassification\n",
    "\n",
    "import pytorch_lightning\n",
    "\n",
    "from torchinfo import summary\n",
    "from torchmetrics.classification import F1Score"
   ]
  },
  {
   "cell_type": "code",
   "execution_count": 2,
   "id": "4db84c2e",
   "metadata": {},
   "outputs": [],
   "source": [
    "pl.set_random_seed(56)"
   ]
  },
  {
   "cell_type": "code",
   "execution_count": 3,
   "id": "205f8c54",
   "metadata": {},
   "outputs": [
    {
     "data": {
      "text/plain": [
       "56"
      ]
     },
     "execution_count": 3,
     "metadata": {},
     "output_type": "execute_result"
    }
   ],
   "source": [
    "pytorch_lightning.seed_everything(56, workers=True)"
   ]
  },
  {
   "cell_type": "markdown",
   "id": "aa82767f",
   "metadata": {},
   "source": [
    "# Data"
   ]
  },
  {
   "cell_type": "markdown",
   "id": "2f9aad18",
   "metadata": {},
   "source": [
    "## Target"
   ]
  },
  {
   "cell_type": "code",
   "execution_count": 4,
   "id": "bc144934",
   "metadata": {
    "scrolled": true
   },
   "outputs": [
    {
     "data": {
      "text/html": [
       "<div><style>\n",
       ".dataframe > thead > tr > th,\n",
       ".dataframe > tbody > tr > td {\n",
       "  text-align: right;\n",
       "  white-space: pre-wrap;\n",
       "}\n",
       "</style>\n",
       "<small>shape: (5, 4)</small><table border=\"1\" class=\"dataframe\"><thead><tr><th>viewer_uid</th><th>age</th><th>sex</th><th>age_class</th></tr><tr><td>i64</td><td>i64</td><td>i8</td><td>i64</td></tr></thead><tbody><tr><td>10087154</td><td>30</td><td>1</td><td>1</td></tr><tr><td>10908708</td><td>25</td><td>0</td><td>1</td></tr><tr><td>10190464</td><td>34</td><td>1</td><td>2</td></tr><tr><td>10939673</td><td>25</td><td>1</td><td>1</td></tr><tr><td>10288257</td><td>48</td><td>1</td><td>3</td></tr></tbody></table></div>"
      ],
      "text/plain": [
       "shape: (5, 4)\n",
       "┌────────────┬─────┬─────┬───────────┐\n",
       "│ viewer_uid ┆ age ┆ sex ┆ age_class │\n",
       "│ ---        ┆ --- ┆ --- ┆ ---       │\n",
       "│ i64        ┆ i64 ┆ i8  ┆ i64       │\n",
       "╞════════════╪═════╪═════╪═══════════╡\n",
       "│ 10087154   ┆ 30  ┆ 1   ┆ 1         │\n",
       "│ 10908708   ┆ 25  ┆ 0   ┆ 1         │\n",
       "│ 10190464   ┆ 34  ┆ 1   ┆ 2         │\n",
       "│ 10939673   ┆ 25  ┆ 1   ┆ 1         │\n",
       "│ 10288257   ┆ 48  ┆ 1   ┆ 3         │\n",
       "└────────────┴─────┴─────┴───────────┘"
      ]
     },
     "execution_count": 4,
     "metadata": {},
     "output_type": "execute_result"
    }
   ],
   "source": [
    "target = pl.read_csv(\"./data/train_targets.csv\")\n",
    "target = target.with_columns((pl.col(\"sex\") == \"male\").cast(pl.Int8))\n",
    "target.head()"
   ]
  },
  {
   "cell_type": "code",
   "execution_count": 5,
   "id": "b4e5c90a",
   "metadata": {},
   "outputs": [],
   "source": [
    "train_target, val_target = train_test_split(target, test_size=1/3, random_state=56, stratify=target[\"age_class\"])"
   ]
  },
  {
   "cell_type": "code",
   "execution_count": 6,
   "id": "007e40e1",
   "metadata": {
    "scrolled": true
   },
   "outputs": [
    {
     "data": {
      "text/plain": [
       "(120008, 60004)"
      ]
     },
     "execution_count": 6,
     "metadata": {},
     "output_type": "execute_result"
    }
   ],
   "source": [
    "len(train_target), len(val_target)"
   ]
  },
  {
   "cell_type": "markdown",
   "id": "35404a38",
   "metadata": {},
   "source": [
    "## Events"
   ]
  },
  {
   "cell_type": "code",
   "execution_count": 7,
   "id": "fa68cb93",
   "metadata": {},
   "outputs": [
    {
     "name": "stdout",
     "output_type": "stream",
     "text": [
      "(1759616, 9)\n"
     ]
    },
    {
     "data": {
      "text/html": [
       "<div><style>\n",
       ".dataframe > thead > tr > th,\n",
       ".dataframe > tbody > tr > td {\n",
       "  text-align: right;\n",
       "  white-space: pre-wrap;\n",
       "}\n",
       "</style>\n",
       "<small>shape: (5, 9)</small><table border=\"1\" class=\"dataframe\"><thead><tr><th>event_timestamp</th><th>region</th><th>ua_device_type</th><th>ua_client_type</th><th>ua_os</th><th>ua_client_name</th><th>total_watchtime</th><th>rutube_video_id</th><th>viewer_uid</th></tr><tr><td>datetime[μs, UTC]</td><td>str</td><td>str</td><td>str</td><td>str</td><td>str</td><td>i64</td><td>str</td><td>i64</td></tr></thead><tbody><tr><td>2024-05-31 21:00:02 UTC</td><td>&quot;St.-Petersburg…</td><td>&quot;smartphone&quot;</td><td>&quot;mobile app&quot;</td><td>&quot;Android&quot;</td><td>&quot;Rutube&quot;</td><td>2661</td><td>&quot;video_157174&quot;</td><td>10188822</td></tr><tr><td>2024-05-31 21:00:03 UTC</td><td>&quot;Altay Kray&quot;</td><td>&quot;desktop&quot;</td><td>&quot;browser&quot;</td><td>&quot;Windows&quot;</td><td>&quot;Yandex Browser…</td><td>281</td><td>&quot;video_331354&quot;</td><td>10259113</td></tr><tr><td>2024-05-31 21:00:03 UTC</td><td>&quot;Sverdlovsk&quot;</td><td>&quot;smartphone&quot;</td><td>&quot;mobile app&quot;</td><td>null</td><td>&quot;Rutube&quot;</td><td>48</td><td>&quot;video_390201&quot;</td><td>10105859</td></tr><tr><td>2024-05-31 21:00:04 UTC</td><td>&quot;Irkutsk Oblast…</td><td>&quot;smartphone&quot;</td><td>&quot;mobile app&quot;</td><td>&quot;Android&quot;</td><td>&quot;Rutube&quot;</td><td>1275</td><td>&quot;video_445327&quot;</td><td>10056670</td></tr><tr><td>2024-05-31 21:00:05 UTC</td><td>&quot;St.-Petersburg…</td><td>&quot;smartphone&quot;</td><td>&quot;mobile app&quot;</td><td>&quot;Android&quot;</td><td>&quot;Rutube&quot;</td><td>270</td><td>&quot;video_423245&quot;</td><td>10181995</td></tr></tbody></table></div>"
      ],
      "text/plain": [
       "shape: (5, 9)\n",
       "┌───────────┬───────────┬───────────┬───────────┬───┬───────────┬───────────┬───────────┬──────────┐\n",
       "│ event_tim ┆ region    ┆ ua_device ┆ ua_client ┆ … ┆ ua_client ┆ total_wat ┆ rutube_vi ┆ viewer_u │\n",
       "│ estamp    ┆ ---       ┆ _type     ┆ _type     ┆   ┆ _name     ┆ chtime    ┆ deo_id    ┆ id       │\n",
       "│ ---       ┆ str       ┆ ---       ┆ ---       ┆   ┆ ---       ┆ ---       ┆ ---       ┆ ---      │\n",
       "│ datetime[ ┆           ┆ str       ┆ str       ┆   ┆ str       ┆ i64       ┆ str       ┆ i64      │\n",
       "│ μs, UTC]  ┆           ┆           ┆           ┆   ┆           ┆           ┆           ┆          │\n",
       "╞═══════════╪═══════════╪═══════════╪═══════════╪═══╪═══════════╪═══════════╪═══════════╪══════════╡\n",
       "│ 2024-05-3 ┆ St.-Peter ┆ smartphon ┆ mobile    ┆ … ┆ Rutube    ┆ 2661      ┆ video_157 ┆ 10188822 │\n",
       "│ 1         ┆ sburg     ┆ e         ┆ app       ┆   ┆           ┆           ┆ 174       ┆          │\n",
       "│ 21:00:02  ┆           ┆           ┆           ┆   ┆           ┆           ┆           ┆          │\n",
       "│ UTC       ┆           ┆           ┆           ┆   ┆           ┆           ┆           ┆          │\n",
       "│ 2024-05-3 ┆ Altay     ┆ desktop   ┆ browser   ┆ … ┆ Yandex    ┆ 281       ┆ video_331 ┆ 10259113 │\n",
       "│ 1         ┆ Kray      ┆           ┆           ┆   ┆ Browser   ┆           ┆ 354       ┆          │\n",
       "│ 21:00:03  ┆           ┆           ┆           ┆   ┆           ┆           ┆           ┆          │\n",
       "│ UTC       ┆           ┆           ┆           ┆   ┆           ┆           ┆           ┆          │\n",
       "│ 2024-05-3 ┆ Sverdlovs ┆ smartphon ┆ mobile    ┆ … ┆ Rutube    ┆ 48        ┆ video_390 ┆ 10105859 │\n",
       "│ 1         ┆ k         ┆ e         ┆ app       ┆   ┆           ┆           ┆ 201       ┆          │\n",
       "│ 21:00:03  ┆           ┆           ┆           ┆   ┆           ┆           ┆           ┆          │\n",
       "│ UTC       ┆           ┆           ┆           ┆   ┆           ┆           ┆           ┆          │\n",
       "│ 2024-05-3 ┆ Irkutsk   ┆ smartphon ┆ mobile    ┆ … ┆ Rutube    ┆ 1275      ┆ video_445 ┆ 10056670 │\n",
       "│ 1         ┆ Oblast    ┆ e         ┆ app       ┆   ┆           ┆           ┆ 327       ┆          │\n",
       "│ 21:00:04  ┆           ┆           ┆           ┆   ┆           ┆           ┆           ┆          │\n",
       "│ UTC       ┆           ┆           ┆           ┆   ┆           ┆           ┆           ┆          │\n",
       "│ 2024-05-3 ┆ St.-Peter ┆ smartphon ┆ mobile    ┆ … ┆ Rutube    ┆ 270       ┆ video_423 ┆ 10181995 │\n",
       "│ 1         ┆ sburg     ┆ e         ┆ app       ┆   ┆           ┆           ┆ 245       ┆          │\n",
       "│ 21:00:05  ┆           ┆           ┆           ┆   ┆           ┆           ┆           ┆          │\n",
       "│ UTC       ┆           ┆           ┆           ┆   ┆           ┆           ┆           ┆          │\n",
       "└───────────┴───────────┴───────────┴───────────┴───┴───────────┴───────────┴───────────┴──────────┘"
      ]
     },
     "execution_count": 7,
     "metadata": {},
     "output_type": "execute_result"
    }
   ],
   "source": [
    "events = pl.read_csv(\"./data/train_events.csv\", try_parse_dates=True)\n",
    "events = events.sort(\"event_timestamp\")\n",
    "print(events.shape)\n",
    "events.head()"
   ]
  },
  {
   "cell_type": "code",
   "execution_count": 8,
   "id": "7e50a7e4",
   "metadata": {},
   "outputs": [],
   "source": [
    "pad_id = 0\n",
    "bos_id = 1\n",
    "unk_id = 2\n",
    "num_special_tokens = 3\n",
    "n_positions = 64\n",
    "min_item_cnt = 3"
   ]
  },
  {
   "cell_type": "code",
   "execution_count": 9,
   "id": "b3125684",
   "metadata": {},
   "outputs": [],
   "source": [
    "events = events.group_by(\"viewer_uid\", maintain_order=True).tail(n_positions)"
   ]
  },
  {
   "cell_type": "markdown",
   "id": "8030d2b3",
   "metadata": {},
   "source": [
    "уберем редкие видео"
   ]
  },
  {
   "cell_type": "code",
   "execution_count": 10,
   "id": "27aff74e",
   "metadata": {},
   "outputs": [
    {
     "name": "stdout",
     "output_type": "stream",
     "text": [
      "124481\n",
      "45038\n"
     ]
    }
   ],
   "source": [
    "item_counts = events[\"rutube_video_id\"].value_counts()\n",
    "print(len(item_counts))\n",
    "items = sorted(item_counts.filter((pl.col(\"counts\") >= min_item_cnt))[\"rutube_video_id\"])\n",
    "print(len(items))"
   ]
  },
  {
   "cell_type": "code",
   "execution_count": 11,
   "id": "abe162af",
   "metadata": {},
   "outputs": [],
   "source": [
    "item2id = {}\n",
    "for item in items:\n",
    "    item2id[item] = len(item2id) + num_special_tokens"
   ]
  },
  {
   "cell_type": "code",
   "execution_count": 12,
   "id": "dddb743b",
   "metadata": {},
   "outputs": [],
   "source": [
    "events = events.with_columns(pl.col(\"rutube_video_id\").map_dict(item2id, default=unk_id))"
   ]
  },
  {
   "cell_type": "markdown",
   "id": "40df2200",
   "metadata": {},
   "source": [
    "## Authors"
   ]
  },
  {
   "cell_type": "code",
   "execution_count": 13,
   "id": "5b09f6eb",
   "metadata": {},
   "outputs": [
    {
     "data": {
      "text/html": [
       "<div><style>\n",
       ".dataframe > thead > tr > th,\n",
       ".dataframe > tbody > tr > td {\n",
       "  text-align: right;\n",
       "  white-space: pre-wrap;\n",
       "}\n",
       "</style>\n",
       "<small>shape: (5, 2)</small><table border=\"1\" class=\"dataframe\"><thead><tr><th>rutube_video_id</th><th>author_id</th></tr><tr><td>str</td><td>i64</td></tr></thead><tbody><tr><td>&quot;video_157198&quot;</td><td>1043618</td></tr><tr><td>&quot;video_289824&quot;</td><td>1009535</td></tr><tr><td>&quot;video_349723&quot;</td><td>1048955</td></tr><tr><td>&quot;video_269867&quot;</td><td>1002824</td></tr><tr><td>&quot;video_38243&quot;</td><td>1010255</td></tr></tbody></table></div>"
      ],
      "text/plain": [
       "shape: (5, 2)\n",
       "┌─────────────────┬───────────┐\n",
       "│ rutube_video_id ┆ author_id │\n",
       "│ ---             ┆ ---       │\n",
       "│ str             ┆ i64       │\n",
       "╞═════════════════╪═══════════╡\n",
       "│ video_157198    ┆ 1043618   │\n",
       "│ video_289824    ┆ 1009535   │\n",
       "│ video_349723    ┆ 1048955   │\n",
       "│ video_269867    ┆ 1002824   │\n",
       "│ video_38243     ┆ 1010255   │\n",
       "└─────────────────┴───────────┘"
      ]
     },
     "execution_count": 13,
     "metadata": {},
     "output_type": "execute_result"
    }
   ],
   "source": [
    "videos_data = pl.read_csv(\"./data/video_info_v2.csv\", columns=[\"rutube_video_id\", \"author_id\"])\n",
    "videos_data = videos_data.filter(pl.col(\"rutube_video_id\").is_in(items))\n",
    "videos_data.head()"
   ]
  },
  {
   "cell_type": "code",
   "execution_count": 14,
   "id": "8bffa267",
   "metadata": {},
   "outputs": [
    {
     "data": {
      "text/plain": [
       "tensor([   0,    1,    2,  ..., 2651,  522, 2971], dtype=torch.int32)"
      ]
     },
     "execution_count": 14,
     "metadata": {},
     "output_type": "execute_result"
    }
   ],
   "source": [
    "author2id = {}\n",
    "for author in videos_data[\"author_id\"].unique():\n",
    "    author2id[author] = len(author2id) + num_special_tokens\n",
    "    \n",
    "item2author = torch.zeros(len(item2id) + num_special_tokens).int()\n",
    "for item, author in zip(videos_data[\"rutube_video_id\"], videos_data[\"author_id\"]):\n",
    "    item2author[item2id[item]] = author2id[author]\n",
    "    \n",
    "for i in range(num_special_tokens):\n",
    "    item2author[i] = i\n",
    "    \n",
    "item2author"
   ]
  },
  {
   "cell_type": "markdown",
   "id": "cd3cfaee",
   "metadata": {},
   "source": [
    "# Dataset"
   ]
  },
  {
   "cell_type": "code",
   "execution_count": 15,
   "id": "ad2d4a10",
   "metadata": {},
   "outputs": [],
   "source": [
    "class SeqDataset(torch.utils.data.Dataset):\n",
    "    def __init__(self, data, target):\n",
    "        super().__init__()\n",
    "        \n",
    "        self._data = (\n",
    "            data\n",
    "            .group_by(\"viewer_uid\", maintain_order=True)\n",
    "            .agg(pl.col(\"rutube_video_id\"))\n",
    "            .join(target, on=\"viewer_uid\", how=\"left\")\n",
    "        )\n",
    "\n",
    "    def __len__(self):\n",
    "        return len(self._data)\n",
    "\n",
    "    def __getitem__(self, index):\n",
    "        row = self._data.row(index)\n",
    "        input_ids = torch.tensor([bos_id] + row[1][::-1]).int()\n",
    "        label = torch.tensor(row[-1]).long()\n",
    "        return input_ids, label"
   ]
  },
  {
   "cell_type": "code",
   "execution_count": 16,
   "id": "afe8dbab",
   "metadata": {},
   "outputs": [],
   "source": [
    "train_dataset = SeqDataset(\n",
    "    events.filter(pl.col(\"viewer_uid\").is_in(train_target[\"viewer_uid\"])),\n",
    "    train_target.select((\"viewer_uid\", \"age_class\"))\n",
    ")"
   ]
  },
  {
   "cell_type": "code",
   "execution_count": 17,
   "id": "e574fac8",
   "metadata": {},
   "outputs": [],
   "source": [
    "val_dataset = SeqDataset(\n",
    "    events.filter(pl.col(\"viewer_uid\").is_in(val_target[\"viewer_uid\"])),\n",
    "    val_target.select((\"viewer_uid\", \"age_class\"))\n",
    ")"
   ]
  },
  {
   "cell_type": "code",
   "execution_count": 18,
   "id": "fc1cf1bd",
   "metadata": {},
   "outputs": [
    {
     "data": {
      "text/plain": [
       "(tensor([    1, 18370, 15548, 32513, 21554, 10906, 39768, 16562, 15981, 30918,\n",
       "         10906, 25024,    87,  7084, 44557, 44557,  9183, 31730,  4069, 22796,\n",
       "         24118, 33968,  5991, 14651,    87, 35040,  4372,  3489, 37342, 13981,\n",
       "         22676, 14651, 35040, 33225, 14593, 31578, 13131,     2],\n",
       "        dtype=torch.int32),\n",
       " tensor(2))"
      ]
     },
     "execution_count": 18,
     "metadata": {},
     "output_type": "execute_result"
    }
   ],
   "source": [
    "train_dataset[0]"
   ]
  },
  {
   "cell_type": "code",
   "execution_count": 19,
   "id": "28be4ec0",
   "metadata": {},
   "outputs": [
    {
     "data": {
      "text/plain": [
       "(tensor([    1, 20005, 20005,  9366, 20775, 15329,  9186, 17741, 17741, 17741,\n",
       "         17741,  5869,  5869, 32923, 40564, 40564, 40564, 19128, 19128, 22408,\n",
       "         42240, 15033, 15033, 15033, 33869, 33869, 28239, 28239, 15100, 16671,\n",
       "         32256,  2585, 23849, 24794, 24794,  2155, 22979, 22979, 22979, 41911,\n",
       "         41911, 38964, 38964, 38964, 28574, 15753, 15753, 15753, 44294, 44294,\n",
       "         22305, 22305, 25327, 30127], dtype=torch.int32),\n",
       " tensor(1))"
      ]
     },
     "execution_count": 19,
     "metadata": {},
     "output_type": "execute_result"
    }
   ],
   "source": [
    "val_dataset[0]"
   ]
  },
  {
   "cell_type": "markdown",
   "id": "c090ca2c",
   "metadata": {},
   "source": [
    "# Dataloader"
   ]
  },
  {
   "cell_type": "code",
   "execution_count": 20,
   "id": "4b1c23ef",
   "metadata": {},
   "outputs": [],
   "source": [
    "def collate_fn(batch):\n",
    "    batch_i, batch_l = [], []\n",
    "    for i, l in batch:\n",
    "        batch_i.append(i)\n",
    "        batch_l.append(l)\n",
    "    batch_i = nn.utils.rnn.pad_sequence(batch_i, batch_first=True, padding_value=pad_id)\n",
    "    batch_l = torch.tensor(batch_l)\n",
    "    return  batch_i, batch_l"
   ]
  },
  {
   "cell_type": "code",
   "execution_count": 21,
   "id": "c41139ee",
   "metadata": {},
   "outputs": [],
   "source": [
    "train_dataloader = torch.utils.data.DataLoader(\n",
    "    dataset=train_dataset,\n",
    "    batch_size=256,\n",
    "    num_workers=0,\n",
    "    drop_last=True,\n",
    "    shuffle=True,\n",
    "    pin_memory=True,\n",
    "    collate_fn=collate_fn,\n",
    ")"
   ]
  },
  {
   "cell_type": "code",
   "execution_count": 22,
   "id": "c2862fcc",
   "metadata": {},
   "outputs": [],
   "source": [
    "val_dataloader = torch.utils.data.DataLoader(\n",
    "    dataset=val_dataset,\n",
    "    batch_size=256,\n",
    "    num_workers=0,\n",
    "    drop_last=False,\n",
    "    shuffle=False,\n",
    "    pin_memory=True,\n",
    "    collate_fn=collate_fn,\n",
    ")"
   ]
  },
  {
   "cell_type": "code",
   "execution_count": 23,
   "id": "969809e7",
   "metadata": {},
   "outputs": [
    {
     "data": {
      "text/plain": [
       "[tensor([[    1,     2,     0,  ...,     0,     0,     0],\n",
       "         [    1, 11004, 16629,  ...,     0,     0,     0],\n",
       "         [    1, 33292, 34463,  ...,     0,     0,     0],\n",
       "         ...,\n",
       "         [    1,  1697,     0,  ...,     0,     0,     0],\n",
       "         [    1, 38749, 23105,  ...,     0,     0,     0],\n",
       "         [    1, 15198,  4785,  ...,     0,     0,     0]], dtype=torch.int32),\n",
       " tensor([3, 2, 1, 2, 3, 1, 1, 3, 1, 2, 2, 3, 1, 1, 2, 3, 1, 1, 3, 1, 3, 2, 2, 2,\n",
       "         1, 2, 3, 2, 1, 1, 1, 2, 2, 1, 1, 1, 2, 1, 1, 2, 1, 1, 1, 1, 2, 1, 2, 3,\n",
       "         3, 1, 3, 3, 2, 2, 3, 1, 3, 3, 1, 0, 0, 0, 2, 2, 2, 3, 3, 2, 3, 2, 2, 3,\n",
       "         1, 1, 1, 3, 3, 2, 3, 1, 1, 1, 1, 1, 3, 1, 3, 3, 3, 3, 3, 1, 1, 3, 3, 2,\n",
       "         2, 1, 2, 1, 2, 1, 2, 3, 1, 1, 2, 2, 3, 1, 3, 0, 3, 1, 1, 1, 0, 3, 2, 2,\n",
       "         1, 1, 2, 2, 3, 2, 2, 1, 3, 1, 2, 2, 2, 1, 1, 3, 1, 3, 1, 3, 1, 3, 2, 1,\n",
       "         2, 3, 2, 3, 1, 3, 2, 1, 2, 1, 3, 1, 1, 2, 2, 1, 3, 1, 2, 3, 3, 1, 1, 1,\n",
       "         2, 1, 3, 2, 3, 1, 3, 2, 3, 3, 2, 2, 2, 2, 3, 2, 2, 2, 1, 1, 1, 2, 2, 2,\n",
       "         2, 1, 1, 2, 3, 3, 1, 1, 3, 3, 2, 2, 1, 1, 3, 2, 1, 3, 1, 1, 1, 3, 1, 2,\n",
       "         3, 2, 1, 1, 1, 1, 2, 1, 1, 3, 1, 1, 3, 2, 1, 1, 1, 2, 1, 3, 3, 1, 1, 2,\n",
       "         1, 2, 1, 3, 1, 1, 2, 2, 3, 2, 2, 3, 2, 2, 3, 3])]"
      ]
     },
     "execution_count": 23,
     "metadata": {},
     "output_type": "execute_result"
    }
   ],
   "source": [
    "next(iter(train_dataloader))"
   ]
  },
  {
   "cell_type": "code",
   "execution_count": 24,
   "id": "25150a86",
   "metadata": {},
   "outputs": [
    {
     "data": {
      "text/plain": [
       "[tensor([[    1, 20005, 20005,  ...,     0,     0,     0],\n",
       "         [    1, 32065,   421,  ...,     0,     0,     0],\n",
       "         [    1, 12346, 32187,  ...,     0,     0,     0],\n",
       "         ...,\n",
       "         [    1, 43543, 22725,  ...,     0,     0,     0],\n",
       "         [    1,  8440, 22729,  ...,     0,     0,     0],\n",
       "         [    1, 20544,  1697,  ...,     0,     0,     0]], dtype=torch.int32),\n",
       " tensor([1, 0, 3, 3, 1, 1, 1, 1, 2, 3, 1, 3, 1, 1, 1, 2, 3, 1, 1, 3, 2, 3, 1, 1,\n",
       "         2, 3, 1, 2, 1, 2, 1, 2, 1, 1, 2, 3, 0, 3, 2, 3, 1, 2, 2, 2, 1, 2, 2, 2,\n",
       "         2, 2, 3, 2, 3, 3, 3, 2, 2, 3, 1, 2, 2, 2, 1, 0, 1, 2, 2, 1, 2, 2, 1, 2,\n",
       "         1, 3, 3, 1, 2, 2, 2, 1, 2, 2, 2, 2, 1, 2, 2, 3, 1, 2, 2, 2, 1, 1, 1, 1,\n",
       "         3, 1, 2, 2, 2, 1, 1, 1, 2, 1, 3, 1, 1, 1, 3, 1, 1, 1, 2, 1, 1, 3, 1, 1,\n",
       "         2, 1, 3, 2, 3, 1, 3, 3, 1, 3, 1, 2, 2, 1, 3, 2, 1, 1, 1, 1, 2, 2, 1, 3,\n",
       "         2, 3, 1, 1, 2, 2, 2, 1, 1, 2, 3, 1, 1, 3, 2, 1, 0, 3, 3, 1, 3, 1, 2, 2,\n",
       "         2, 2, 3, 1, 2, 1, 1, 3, 1, 1, 3, 2, 2, 3, 3, 1, 2, 2, 1, 1, 1, 1, 1, 3,\n",
       "         1, 1, 2, 2, 1, 1, 1, 2, 1, 0, 2, 0, 1, 2, 0, 3, 2, 2, 2, 1, 2, 2, 3, 2,\n",
       "         3, 1, 1, 1, 3, 2, 1, 2, 2, 1, 3, 1, 1, 3, 2, 2, 1, 3, 1, 3, 2, 1, 3, 2,\n",
       "         3, 3, 1, 3, 2, 1, 2, 3, 2, 1, 3, 2, 1, 2, 2, 2])]"
      ]
     },
     "execution_count": 24,
     "metadata": {},
     "output_type": "execute_result"
    }
   ],
   "source": [
    "next(iter(val_dataloader))"
   ]
  },
  {
   "cell_type": "markdown",
   "id": "059fe0ce",
   "metadata": {},
   "source": [
    "# Model"
   ]
  },
  {
   "cell_type": "code",
   "execution_count": 25,
   "id": "9b9d70e3",
   "metadata": {},
   "outputs": [],
   "source": [
    "class ClsModel(pytorch_lightning.LightningModule):\n",
    "    def __init__(\n",
    "            self,\n",
    "            train_dataloader,\n",
    "            val_dataloader,\n",
    "            **kwargs,\n",
    "    ):\n",
    "        super().__init__()\n",
    "\n",
    "        self._train_dataloader = train_dataloader\n",
    "        self._val_dataloader = val_dataloader\n",
    "\n",
    "        padding_idx = kwargs.pop(\"padding_idx\", 0)\n",
    "        num_special_tokens = kwargs.pop(\"num_special_tokens\", 3)\n",
    "\n",
    "        n_positions = kwargs.pop(\"n_positions\", 256)\n",
    "        n_layer = kwargs.pop(\"n_layer\", 1)\n",
    "        n_head = kwargs.pop(\"n_head\", 8)\n",
    "        head_size = kwargs.pop(\"head_size\", 64)\n",
    "        embedding_size = n_head * head_size\n",
    "        dropout = kwargs.pop(\"dropout\", 0.1)\n",
    "        \n",
    "        num_labels = kwargs.pop(\"num_labels\", 1)\n",
    "        \n",
    "        self.padding_idx = padding_idx\n",
    "        \n",
    "        config = BertConfig(\n",
    "            vocab_size=len(item2id) + num_special_tokens,\n",
    "            hidden_size=embedding_size,\n",
    "            num_hidden_layers=n_layer,\n",
    "            num_attention_heads=n_head,\n",
    "            intermediate_size=embedding_size * 4,\n",
    "            hidden_dropout_prob=dropout,\n",
    "            attention_probs_dropout_prob=dropout,\n",
    "            max_position_embeddings=n_positions,\n",
    "            type_vocab_size=len(author2id) + num_special_tokens,\n",
    "            pad_token_id=padding_idx,\n",
    "            num_labels=num_labels,\n",
    "            problem_type=\"single_label_classification\",\n",
    "        )\n",
    "        self.bert = BertForSequenceClassification(config)\n",
    "        \n",
    "        self.register_buffer(\n",
    "            \"video2author\", item2author.clone(), persistent=False\n",
    "        )\n",
    "        \n",
    "        self.metric = F1Score(\"multiclass\", num_classes=num_labels, average=\"weighted\")\n",
    "        \n",
    "        self.val_preds = []\n",
    "        self.val_target = []\n",
    "\n",
    "    def forward(self, x, labels):\n",
    "        attention_mask = (x != self.padding_idx)\n",
    "        outputs = self.bert(x, attention_mask=attention_mask, token_type_ids=self.video2author[x], labels=labels, return_dict=True)\n",
    "        return outputs\n",
    "\n",
    "    def training_step(self, batch, batch_idx):\n",
    "        input_ids, labels = batch\n",
    "\n",
    "        sequence_output = self.forward(input_ids, labels)\n",
    "        loss = sequence_output.loss\n",
    "        \n",
    "        self.log(\"train_loss\", loss, logger=True, on_epoch=True, prog_bar=True)\n",
    "        return loss\n",
    "\n",
    "    def validation_step(self, batch, batch_idx):\n",
    "        input_ids, labels = batch\n",
    "\n",
    "        sequence_output = self.forward(input_ids, labels)\n",
    "        loss = sequence_output.loss\n",
    "        \n",
    "        self.val_preds.append(sequence_output.logits)\n",
    "        self.val_target.append(labels)\n",
    "        \n",
    "        return loss\n",
    "\n",
    "    def on_validation_epoch_end(self):\n",
    "        f1_weighted = self.metric(\n",
    "            torch.concatenate(self.val_preds).argmax(dim=-1),\n",
    "            torch.concatenate(self.val_target)\n",
    "        ).item()\n",
    "        print(f\"{f1_weighted=}\")\n",
    "        self.log(\"val_f1_weighted\", f1_weighted, logger=True, on_epoch=True)\n",
    "        self.val_preds.clear()\n",
    "        self.val_target.clear()\n",
    "\n",
    "    def configure_optimizers(self):\n",
    "        weight_decay = 1e-05\n",
    "        no_decay = ['bias', 'LayerNorm.bias', 'LayerNorm.weight']\n",
    "        param_optimizer = list(self.named_parameters())\n",
    "        optimizer_grouped_parameters = [\n",
    "            {'params': [p for n, p in param_optimizer if not any(nd in n for nd in no_decay)], 'weight_decay': weight_decay},\n",
    "            {'params': [p for n, p in param_optimizer if any(nd in n for nd in no_decay)], 'weight_decay': 0.0}\n",
    "        ]\n",
    "        optim = torch.optim.AdamW(optimizer_grouped_parameters, lr=1e-4)\n",
    "        return [optim]\n",
    "\n",
    "    def train_dataloader(self):\n",
    "        return self._train_dataloader\n",
    "\n",
    "    def val_dataloader(self):\n",
    "        return self._val_dataloader\n",
    "    \n",
    "    def predict_step(self, batch, batch_idx, dataloader_idx=0):\n",
    "        input_ids, _ = batch\n",
    "        sequence_output = self.forward(input_ids, None)\n",
    "        return sequence_output.logits.detach().cpu()"
   ]
  },
  {
   "cell_type": "code",
   "execution_count": 26,
   "id": "3becab1c",
   "metadata": {},
   "outputs": [],
   "source": [
    "cls_model = ClsModel(\n",
    "    train_dataloader,\n",
    "    val_dataloader,\n",
    "    padding_idx=pad_id,\n",
    "    n_positions=n_positions + 1,\n",
    "    n_layer=4,\n",
    "    n_head=8,\n",
    "    head_size=32,\n",
    "    dropout=0.1,\n",
    "    num_labels=4,\n",
    ")"
   ]
  },
  {
   "cell_type": "code",
   "execution_count": 27,
   "id": "67a9a568",
   "metadata": {},
   "outputs": [
    {
     "data": {
      "text/plain": [
       "ClsModel(\n",
       "  (bert): BertForSequenceClassification(\n",
       "    (bert): BertModel(\n",
       "      (embeddings): BertEmbeddings(\n",
       "        (word_embeddings): Embedding(45041, 256, padding_idx=0)\n",
       "        (position_embeddings): Embedding(65, 256)\n",
       "        (token_type_embeddings): Embedding(3324, 256)\n",
       "        (LayerNorm): LayerNorm((256,), eps=1e-12, elementwise_affine=True)\n",
       "        (dropout): Dropout(p=0.1, inplace=False)\n",
       "      )\n",
       "      (encoder): BertEncoder(\n",
       "        (layer): ModuleList(\n",
       "          (0-3): 4 x BertLayer(\n",
       "            (attention): BertAttention(\n",
       "              (self): BertSelfAttention(\n",
       "                (query): Linear(in_features=256, out_features=256, bias=True)\n",
       "                (key): Linear(in_features=256, out_features=256, bias=True)\n",
       "                (value): Linear(in_features=256, out_features=256, bias=True)\n",
       "                (dropout): Dropout(p=0.1, inplace=False)\n",
       "              )\n",
       "              (output): BertSelfOutput(\n",
       "                (dense): Linear(in_features=256, out_features=256, bias=True)\n",
       "                (LayerNorm): LayerNorm((256,), eps=1e-12, elementwise_affine=True)\n",
       "                (dropout): Dropout(p=0.1, inplace=False)\n",
       "              )\n",
       "            )\n",
       "            (intermediate): BertIntermediate(\n",
       "              (dense): Linear(in_features=256, out_features=1024, bias=True)\n",
       "              (intermediate_act_fn): GELUActivation()\n",
       "            )\n",
       "            (output): BertOutput(\n",
       "              (dense): Linear(in_features=1024, out_features=256, bias=True)\n",
       "              (LayerNorm): LayerNorm((256,), eps=1e-12, elementwise_affine=True)\n",
       "              (dropout): Dropout(p=0.1, inplace=False)\n",
       "            )\n",
       "          )\n",
       "        )\n",
       "      )\n",
       "      (pooler): BertPooler(\n",
       "        (dense): Linear(in_features=256, out_features=256, bias=True)\n",
       "        (activation): Tanh()\n",
       "      )\n",
       "    )\n",
       "    (dropout): Dropout(p=0.1, inplace=False)\n",
       "    (classifier): Linear(in_features=256, out_features=4, bias=True)\n",
       "  )\n",
       "  (metric): MulticlassF1Score()\n",
       ")"
      ]
     },
     "execution_count": 27,
     "metadata": {},
     "output_type": "execute_result"
    }
   ],
   "source": [
    "cls_model"
   ]
  },
  {
   "cell_type": "code",
   "execution_count": 28,
   "id": "f5a81c59",
   "metadata": {},
   "outputs": [
    {
     "data": {
      "text/plain": [
       "=====================================================================================\n",
       "Layer (type:depth-idx)                                       Param #\n",
       "=====================================================================================\n",
       "ClsModel                                                     --\n",
       "├─BertForSequenceClassification: 1-1                         --\n",
       "│    └─BertModel: 2-1                                        --\n",
       "│    │    └─BertEmbeddings: 3-1                              12,398,592\n",
       "│    │    └─BertEncoder: 3-2                                 3,159,040\n",
       "│    │    └─BertPooler: 3-3                                  65,792\n",
       "│    └─Dropout: 2-2                                          --\n",
       "│    └─Linear: 2-3                                           1,028\n",
       "├─MulticlassF1Score: 1-2                                     --\n",
       "=====================================================================================\n",
       "Total params: 15,624,452\n",
       "Trainable params: 15,624,452\n",
       "Non-trainable params: 0\n",
       "====================================================================================="
      ]
     },
     "execution_count": 28,
     "metadata": {},
     "output_type": "execute_result"
    }
   ],
   "source": [
    "summary(cls_model)"
   ]
  },
  {
   "cell_type": "markdown",
   "id": "a526905c",
   "metadata": {},
   "source": [
    "# Training"
   ]
  },
  {
   "cell_type": "code",
   "execution_count": 29,
   "id": "97151dfc",
   "metadata": {
    "scrolled": false
   },
   "outputs": [
    {
     "data": {
      "application/vnd.jupyter.widget-view+json": {
       "model_id": "",
       "version_major": 2,
       "version_minor": 0
      },
      "text/plain": [
       "Sanity Checking: 0it [00:00, ?it/s]"
      ]
     },
     "metadata": {},
     "output_type": "display_data"
    },
    {
     "data": {
      "application/vnd.jupyter.widget-view+json": {
       "model_id": "83d432d0ae1040a3bfc6381e2bd8f6ae",
       "version_major": 2,
       "version_minor": 0
      },
      "text/plain": [
       "Training: 0it [00:00, ?it/s]"
      ]
     },
     "metadata": {},
     "output_type": "display_data"
    },
    {
     "data": {
      "application/vnd.jupyter.widget-view+json": {
       "model_id": "",
       "version_major": 2,
       "version_minor": 0
      },
      "text/plain": [
       "Validation: 0it [00:00, ?it/s]"
      ]
     },
     "metadata": {},
     "output_type": "display_data"
    },
    {
     "data": {
      "application/vnd.jupyter.widget-view+json": {
       "model_id": "",
       "version_major": 2,
       "version_minor": 0
      },
      "text/plain": [
       "Validation: 0it [00:00, ?it/s]"
      ]
     },
     "metadata": {},
     "output_type": "display_data"
    }
   ],
   "source": [
    "trainer = pytorch_lightning.Trainer(\n",
    "    accelerator=\"gpu\",\n",
    "    logger=False,\n",
    "    callbacks=[],\n",
    "    max_epochs=2,\n",
    "    enable_checkpointing=False,\n",
    ")\n",
    "\n",
    "trainer.fit(cls_model)"
   ]
  },
  {
   "cell_type": "markdown",
   "id": "edfdf1af",
   "metadata": {},
   "source": [
    "0.46068698167800903"
   ]
  },
  {
   "cell_type": "markdown",
   "id": "41fe5a58",
   "metadata": {},
   "source": [
    "# Inference"
   ]
  },
  {
   "cell_type": "markdown",
   "id": "3d1e2b43",
   "metadata": {},
   "source": [
    "пример для валидации"
   ]
  },
  {
   "cell_type": "code",
   "execution_count": 30,
   "id": "49ce0096",
   "metadata": {},
   "outputs": [],
   "source": [
    "import numpy as np"
   ]
  },
  {
   "cell_type": "code",
   "execution_count": 31,
   "id": "22af7b75",
   "metadata": {},
   "outputs": [
    {
     "data": {
      "application/vnd.jupyter.widget-view+json": {
       "model_id": "081f7f80f0c849c5b3fc233d49afe08a",
       "version_major": 2,
       "version_minor": 0
      },
      "text/plain": [
       "Predicting: 0it [00:00, ?it/s]"
      ]
     },
     "metadata": {},
     "output_type": "display_data"
    },
    {
     "data": {
      "text/plain": [
       "array([[-2.0205917 ,  0.87053806,  1.178466  , -0.3924513 ],\n",
       "       [ 1.366481  ,  1.3662376 , -0.7040721 , -1.8407457 ],\n",
       "       [-2.8360953 , -0.6107546 ,  1.1305466 ,  1.7830209 ],\n",
       "       ...,\n",
       "       [-0.9968277 ,  0.78015447,  0.27284256, -0.1264144 ],\n",
       "       [-1.2421279 ,  0.99831134,  0.3773139 , -0.28822434],\n",
       "       [-1.4236234 ,  1.0690387 ,  1.052502  , -0.9013518 ]],\n",
       "      dtype=float32)"
      ]
     },
     "execution_count": 31,
     "metadata": {},
     "output_type": "execute_result"
    }
   ],
   "source": [
    "prediction = trainer.predict(cls_model, val_dataloader)\n",
    "prediction = np.concatenate([p.numpy() for p in prediction])\n",
    "prediction"
   ]
  },
  {
   "cell_type": "code",
   "execution_count": 32,
   "id": "d43e3053",
   "metadata": {},
   "outputs": [
    {
     "data": {
      "text/html": [
       "<div><style>\n",
       ".dataframe > thead > tr > th,\n",
       ".dataframe > tbody > tr > td {\n",
       "  text-align: right;\n",
       "  white-space: pre-wrap;\n",
       "}\n",
       "</style>\n",
       "<small>shape: (60_004, 5)</small><table border=\"1\" class=\"dataframe\"><thead><tr><th>viewer_uid</th><th>age_class_pred_0</th><th>age_class_pred_1</th><th>age_class_pred_2</th><th>age_class_pred_3</th></tr><tr><td>i64</td><td>f32</td><td>f32</td><td>f32</td><td>f32</td></tr></thead><tbody><tr><td>10105859</td><td>-2.020592</td><td>0.870538</td><td>1.178466</td><td>-0.392451</td></tr><tr><td>10056670</td><td>1.366481</td><td>1.366238</td><td>-0.704072</td><td>-1.840746</td></tr><tr><td>10131484</td><td>-2.836095</td><td>-0.610755</td><td>1.130547</td><td>1.783021</td></tr><tr><td>10369145</td><td>-2.192721</td><td>0.907031</td><td>1.193253</td><td>-0.296297</td></tr><tr><td>10326121</td><td>-1.769892</td><td>1.072153</td><td>0.812914</td><td>-0.41428</td></tr><tr><td>10022320</td><td>-0.692371</td><td>1.625273</td><td>0.239216</td><td>-1.349897</td></tr><tr><td>10037831</td><td>-2.37202</td><td>0.36353</td><td>1.403388</td><td>0.154738</td></tr><tr><td>10472805</td><td>-0.962026</td><td>1.035835</td><td>0.457519</td><td>-0.704976</td></tr><tr><td>10005074</td><td>-2.830344</td><td>-0.343688</td><td>1.314867</td><td>1.329135</td></tr><tr><td>10245037</td><td>-0.536521</td><td>1.035475</td><td>0.190591</td><td>-0.713088</td></tr><tr><td>10006585</td><td>0.129289</td><td>1.836729</td><td>-0.212336</td><td>-1.757696</td></tr><tr><td>10389380</td><td>-1.143085</td><td>1.366597</td><td>0.490047</td><td>-0.924507</td></tr><tr><td>&hellip;</td><td>&hellip;</td><td>&hellip;</td><td>&hellip;</td><td>&hellip;</td></tr><tr><td>11140718</td><td>-1.434376</td><td>0.798859</td><td>0.577253</td><td>-0.090526</td></tr><tr><td>11138598</td><td>-2.400894</td><td>-0.297235</td><td>0.716679</td><td>1.587006</td></tr><tr><td>10092181</td><td>-1.474213</td><td>0.192574</td><td>0.418204</td><td>0.66373</td></tr><tr><td>10411429</td><td>-0.118772</td><td>1.340697</td><td>-0.153364</td><td>-1.061838</td></tr><tr><td>10029980</td><td>-1.223011</td><td>0.693569</td><td>0.375568</td><td>0.023231</td></tr><tr><td>10096450</td><td>-1.340914</td><td>0.996696</td><td>0.57754</td><td>-0.363725</td></tr><tr><td>10099631</td><td>-1.669557</td><td>0.751572</td><td>0.651386</td><td>0.07359</td></tr><tr><td>10128288</td><td>-2.762086</td><td>-0.573871</td><td>1.341473</td><td>1.490184</td></tr><tr><td>10182052</td><td>-1.320572</td><td>0.03541</td><td>0.482611</td><td>0.643165</td></tr><tr><td>10032138</td><td>-0.996828</td><td>0.780154</td><td>0.272843</td><td>-0.126414</td></tr><tr><td>10049419</td><td>-1.242128</td><td>0.998311</td><td>0.377314</td><td>-0.288224</td></tr><tr><td>10199031</td><td>-1.423623</td><td>1.069039</td><td>1.052502</td><td>-0.901352</td></tr></tbody></table></div>"
      ],
      "text/plain": [
       "shape: (60_004, 5)\n",
       "┌────────────┬──────────────────┬──────────────────┬──────────────────┬──────────────────┐\n",
       "│ viewer_uid ┆ age_class_pred_0 ┆ age_class_pred_1 ┆ age_class_pred_2 ┆ age_class_pred_3 │\n",
       "│ ---        ┆ ---              ┆ ---              ┆ ---              ┆ ---              │\n",
       "│ i64        ┆ f32              ┆ f32              ┆ f32              ┆ f32              │\n",
       "╞════════════╪══════════════════╪══════════════════╪══════════════════╪══════════════════╡\n",
       "│ 10105859   ┆ -2.020592        ┆ 0.870538         ┆ 1.178466         ┆ -0.392451        │\n",
       "│ 10056670   ┆ 1.366481         ┆ 1.366238         ┆ -0.704072        ┆ -1.840746        │\n",
       "│ 10131484   ┆ -2.836095        ┆ -0.610755        ┆ 1.130547         ┆ 1.783021         │\n",
       "│ 10369145   ┆ -2.192721        ┆ 0.907031         ┆ 1.193253         ┆ -0.296297        │\n",
       "│ …          ┆ …                ┆ …                ┆ …                ┆ …                │\n",
       "│ 10182052   ┆ -1.320572        ┆ 0.03541          ┆ 0.482611         ┆ 0.643165         │\n",
       "│ 10032138   ┆ -0.996828        ┆ 0.780154         ┆ 0.272843         ┆ -0.126414        │\n",
       "│ 10049419   ┆ -1.242128        ┆ 0.998311         ┆ 0.377314         ┆ -0.288224        │\n",
       "│ 10199031   ┆ -1.423623        ┆ 1.069039         ┆ 1.052502         ┆ -0.901352        │\n",
       "└────────────┴──────────────────┴──────────────────┴──────────────────┴──────────────────┘"
      ]
     },
     "execution_count": 32,
     "metadata": {},
     "output_type": "execute_result"
    }
   ],
   "source": [
    "prediction = (\n",
    "    val_dataset\n",
    "    ._data\n",
    "    .with_columns([pl.Series(f\"age_class_pred_{i}\", prediction[:, i]) for i in range(4)])\n",
    "    .drop((\"rutube_video_id\", \"age_class\"))\n",
    ")\n",
    "prediction"
   ]
  }
 ],
 "metadata": {
  "finalized": {
   "timestamp": 1727591874378,
   "trusted": true
  },
  "kernelspec": {
   "display_name": "Python 3 (ipykernel)",
   "language": "python",
   "name": "python3"
  },
  "language_info": {
   "codemirror_mode": {
    "name": "ipython",
    "version": 3
   },
   "file_extension": ".py",
   "mimetype": "text/x-python",
   "name": "python",
   "nbconvert_exporter": "python",
   "pygments_lexer": "ipython3",
   "version": "3.8.13"
  },
  "widgets": {
   "application/vnd.jupyter.widget-state+json": {
    "state": {
     "081f7f80f0c849c5b3fc233d49afe08a": {
      "model_module": "@jupyter-widgets/controls",
      "model_module_version": "1.5.0",
      "model_name": "HBoxModel",
      "state": {
       "children": [
        "IPY_MODEL_eb973dffd44d4ce0a51058ec4557e094",
        "IPY_MODEL_f75d30481bf84bda9d6cdc372c45a10e",
        "IPY_MODEL_f2262727541040b9aac005e41b3f1e3f"
       ],
       "layout": "IPY_MODEL_3d0b41979bff4f10aad03a0f635862db"
      }
     },
     "18fc2b094a624eb29e8dadd66abb6086": {
      "model_module": "@jupyter-widgets/controls",
      "model_module_version": "1.5.0",
      "model_name": "FloatProgressModel",
      "state": {
       "bar_style": "success",
       "layout": "IPY_MODEL_2341d3e738d540608c7663373145e222",
       "max": 468,
       "style": "IPY_MODEL_f2242134cdc04e519b1500d5df1401f3",
       "value": 468
      }
     },
     "2341d3e738d540608c7663373145e222": {
      "model_module": "@jupyter-widgets/base",
      "model_module_version": "1.2.0",
      "model_name": "LayoutModel",
      "state": {
       "flex": "2"
      }
     },
     "268ae200c7dc422bb21924e778311a58": {
      "model_module": "@jupyter-widgets/controls",
      "model_module_version": "1.5.0",
      "model_name": "FloatProgressModel",
      "state": {
       "layout": "IPY_MODEL_e55295a60ddb4f7ab2a484755803cf0c",
       "max": 235,
       "style": "IPY_MODEL_ff6bfd6e162b4318b411cb94a853b007",
       "value": 235
      }
     },
     "37329b881a9749ad9877420fa91bcd28": {
      "model_module": "@jupyter-widgets/base",
      "model_module_version": "1.2.0",
      "model_name": "LayoutModel",
      "state": {}
     },
     "38d418ecb1074a7189a69e9b324abb5d": {
      "model_module": "@jupyter-widgets/base",
      "model_module_version": "1.2.0",
      "model_name": "LayoutModel",
      "state": {}
     },
     "392089360ccf413090cf438d52cf56d8": {
      "model_module": "@jupyter-widgets/controls",
      "model_module_version": "1.5.0",
      "model_name": "ProgressStyleModel",
      "state": {
       "description_width": ""
      }
     },
     "392e41d4dd4942f6a40c6773586a467c": {
      "model_module": "@jupyter-widgets/controls",
      "model_module_version": "1.5.0",
      "model_name": "HTMLModel",
      "state": {
       "layout": "IPY_MODEL_c8c644835b4243a2bd7dded1057bc846",
       "style": "IPY_MODEL_e0a50c9e629f4224b55bd963e53123e6",
       "value": "Validation DataLoader 0: 100%"
      }
     },
     "3d0b41979bff4f10aad03a0f635862db": {
      "model_module": "@jupyter-widgets/base",
      "model_module_version": "1.2.0",
      "model_name": "LayoutModel",
      "state": {
       "display": "inline-flex",
       "flex_flow": "row wrap",
       "width": "100%"
      }
     },
     "4795b35ce03e477e900fccdf7aa5d37a": {
      "model_module": "@jupyter-widgets/base",
      "model_module_version": "1.2.0",
      "model_name": "LayoutModel",
      "state": {}
     },
     "483166df32e441538f79b6313833e375": {
      "model_module": "@jupyter-widgets/controls",
      "model_module_version": "1.5.0",
      "model_name": "DescriptionStyleModel",
      "state": {
       "description_width": ""
      }
     },
     "49e370b874db45d1a3f7f093693d5f44": {
      "model_module": "@jupyter-widgets/base",
      "model_module_version": "1.2.0",
      "model_name": "LayoutModel",
      "state": {
       "display": "inline-flex",
       "flex_flow": "row wrap",
       "width": "100%"
      }
     },
     "5b2b67267d934642813d8fcc6b79b950": {
      "model_module": "@jupyter-widgets/controls",
      "model_module_version": "1.5.0",
      "model_name": "DescriptionStyleModel",
      "state": {
       "description_width": ""
      }
     },
     "64353a2112654ed8a4ea513bad7a7b9b": {
      "model_module": "@jupyter-widgets/base",
      "model_module_version": "1.2.0",
      "model_name": "LayoutModel",
      "state": {}
     },
     "6fb59a43ba0746d98791f0e80b3db801": {
      "model_module": "@jupyter-widgets/controls",
      "model_module_version": "1.5.0",
      "model_name": "ProgressStyleModel",
      "state": {
       "description_width": ""
      }
     },
     "70567fdbeec14321b294b60b7c4ec682": {
      "model_module": "@jupyter-widgets/controls",
      "model_module_version": "1.5.0",
      "model_name": "HTMLModel",
      "state": {
       "layout": "IPY_MODEL_38d418ecb1074a7189a69e9b324abb5d",
       "style": "IPY_MODEL_9263f08528dd4294a9227c65d79915c5",
       "value": " 235/235 [00:04&lt;00:00, 52.07it/s]"
      }
     },
     "7120309e0c2c45c7b76bce145a1a5ee2": {
      "model_module": "@jupyter-widgets/base",
      "model_module_version": "1.2.0",
      "model_name": "LayoutModel",
      "state": {}
     },
     "7664f73ea76e4526928b88813a3f44df": {
      "model_module": "@jupyter-widgets/controls",
      "model_module_version": "1.5.0",
      "model_name": "DescriptionStyleModel",
      "state": {
       "description_width": ""
      }
     },
     "76cc0100dec041f2a7de2b958500025a": {
      "model_module": "@jupyter-widgets/controls",
      "model_module_version": "1.5.0",
      "model_name": "HTMLModel",
      "state": {
       "layout": "IPY_MODEL_ef001dc997414d85aca2633b468adfdb",
       "style": "IPY_MODEL_fb7a945d7f534dc1a3a079ec05345273",
       "value": " 468/468 [00:41&lt;00:00, 11.23it/s, train_loss_step=1.080, train_loss_epoch=1.060]"
      }
     },
     "79e7f8fd5ba949bba484c60b14f976bb": {
      "model_module": "@jupyter-widgets/base",
      "model_module_version": "1.2.0",
      "model_name": "LayoutModel",
      "state": {
       "flex": "2"
      }
     },
     "7fb2ec2a4b7446e18fa1cd7a41540b43": {
      "model_module": "@jupyter-widgets/base",
      "model_module_version": "1.2.0",
      "model_name": "LayoutModel",
      "state": {
       "display": "inline-flex",
       "flex_flow": "row wrap",
       "visibility": "hidden",
       "width": "100%"
      }
     },
     "8241d35054124b8bb91f7ca84e328a0b": {
      "model_module": "@jupyter-widgets/controls",
      "model_module_version": "1.5.0",
      "model_name": "HTMLModel",
      "state": {
       "layout": "IPY_MODEL_88968ee7a966457081a3aa56c248be51",
       "style": "IPY_MODEL_7664f73ea76e4526928b88813a3f44df",
       "value": "Sanity Checking DataLoader 0: 100%"
      }
     },
     "83d432d0ae1040a3bfc6381e2bd8f6ae": {
      "model_module": "@jupyter-widgets/controls",
      "model_module_version": "1.5.0",
      "model_name": "HBoxModel",
      "state": {
       "children": [
        "IPY_MODEL_edc3c67f25bc40498eef6e94cb7fe2ca",
        "IPY_MODEL_18fc2b094a624eb29e8dadd66abb6086",
        "IPY_MODEL_76cc0100dec041f2a7de2b958500025a"
       ],
       "layout": "IPY_MODEL_49e370b874db45d1a3f7f093693d5f44"
      }
     },
     "88968ee7a966457081a3aa56c248be51": {
      "model_module": "@jupyter-widgets/base",
      "model_module_version": "1.2.0",
      "model_name": "LayoutModel",
      "state": {}
     },
     "8a856c698ea546308f383559542873f8": {
      "model_module": "@jupyter-widgets/base",
      "model_module_version": "1.2.0",
      "model_name": "LayoutModel",
      "state": {}
     },
     "8bb083799c3942ac95693e51c41c486a": {
      "model_module": "@jupyter-widgets/controls",
      "model_module_version": "1.5.0",
      "model_name": "FloatProgressModel",
      "state": {
       "layout": "IPY_MODEL_79e7f8fd5ba949bba484c60b14f976bb",
       "max": 2,
       "style": "IPY_MODEL_6fb59a43ba0746d98791f0e80b3db801",
       "value": 2
      }
     },
     "9263f08528dd4294a9227c65d79915c5": {
      "model_module": "@jupyter-widgets/controls",
      "model_module_version": "1.5.0",
      "model_name": "DescriptionStyleModel",
      "state": {
       "description_width": ""
      }
     },
     "932f47c8adeb425cb3aaca561cf38f7f": {
      "model_module": "@jupyter-widgets/controls",
      "model_module_version": "1.5.0",
      "model_name": "HTMLModel",
      "state": {
       "layout": "IPY_MODEL_64353a2112654ed8a4ea513bad7a7b9b",
       "style": "IPY_MODEL_e027f78944234e639a3d3a89b1d11a4b",
       "value": " 235/235 [00:04&lt;00:00, 51.43it/s]"
      }
     },
     "ba5cbd2930f9435a8b5b3440e47f6ba2": {
      "model_module": "@jupyter-widgets/controls",
      "model_module_version": "1.5.0",
      "model_name": "FloatProgressModel",
      "state": {
       "layout": "IPY_MODEL_dd80d00d9d76456fad900ab69bb875cd",
       "max": 235,
       "style": "IPY_MODEL_392089360ccf413090cf438d52cf56d8",
       "value": 235
      }
     },
     "c521c931432f4ddd9c77c1438926e344": {
      "model_module": "@jupyter-widgets/controls",
      "model_module_version": "1.5.0",
      "model_name": "HTMLModel",
      "state": {
       "layout": "IPY_MODEL_f4ad1e5c1e554482b8dc15a5b5c9f512",
       "style": "IPY_MODEL_eea8f1756a214129bd32cc4ab67c0d4b",
       "value": " 2/2 [00:00&lt;00:00,  4.83it/s]"
      }
     },
     "c8c644835b4243a2bd7dded1057bc846": {
      "model_module": "@jupyter-widgets/base",
      "model_module_version": "1.2.0",
      "model_name": "LayoutModel",
      "state": {}
     },
     "c9db20b0b7724b6ca9583be733766160": {
      "model_module": "@jupyter-widgets/base",
      "model_module_version": "1.2.0",
      "model_name": "LayoutModel",
      "state": {
       "display": "inline-flex",
       "flex_flow": "row wrap",
       "visibility": "hidden",
       "width": "100%"
      }
     },
     "ca83b2e5ca8947c7ad19878333119084": {
      "model_module": "@jupyter-widgets/controls",
      "model_module_version": "1.5.0",
      "model_name": "DescriptionStyleModel",
      "state": {
       "description_width": ""
      }
     },
     "ccb96a3372cf4ac2bbf6ad8381c94149": {
      "model_module": "@jupyter-widgets/base",
      "model_module_version": "1.2.0",
      "model_name": "LayoutModel",
      "state": {
       "display": "inline-flex",
       "flex_flow": "row wrap",
       "visibility": "hidden",
       "width": "100%"
      }
     },
     "dc30a77a0bc84318a76104ae2d5e0a15": {
      "model_module": "@jupyter-widgets/controls",
      "model_module_version": "1.5.0",
      "model_name": "ProgressStyleModel",
      "state": {
       "description_width": ""
      }
     },
     "dd80d00d9d76456fad900ab69bb875cd": {
      "model_module": "@jupyter-widgets/base",
      "model_module_version": "1.2.0",
      "model_name": "LayoutModel",
      "state": {
       "flex": "2"
      }
     },
     "e027f78944234e639a3d3a89b1d11a4b": {
      "model_module": "@jupyter-widgets/controls",
      "model_module_version": "1.5.0",
      "model_name": "DescriptionStyleModel",
      "state": {
       "description_width": ""
      }
     },
     "e0a50c9e629f4224b55bd963e53123e6": {
      "model_module": "@jupyter-widgets/controls",
      "model_module_version": "1.5.0",
      "model_name": "DescriptionStyleModel",
      "state": {
       "description_width": ""
      }
     },
     "e55295a60ddb4f7ab2a484755803cf0c": {
      "model_module": "@jupyter-widgets/base",
      "model_module_version": "1.2.0",
      "model_name": "LayoutModel",
      "state": {
       "flex": "2"
      }
     },
     "eb973dffd44d4ce0a51058ec4557e094": {
      "model_module": "@jupyter-widgets/controls",
      "model_module_version": "1.5.0",
      "model_name": "HTMLModel",
      "state": {
       "layout": "IPY_MODEL_4795b35ce03e477e900fccdf7aa5d37a",
       "style": "IPY_MODEL_483166df32e441538f79b6313833e375",
       "value": "Predicting DataLoader 0: 100%"
      }
     },
     "edc3c67f25bc40498eef6e94cb7fe2ca": {
      "model_module": "@jupyter-widgets/controls",
      "model_module_version": "1.5.0",
      "model_name": "HTMLModel",
      "state": {
       "layout": "IPY_MODEL_8a856c698ea546308f383559542873f8",
       "style": "IPY_MODEL_fa9cc5adbebc4a7594b62335cae44f7d",
       "value": "Epoch 1: 100%"
      }
     },
     "eea8f1756a214129bd32cc4ab67c0d4b": {
      "model_module": "@jupyter-widgets/controls",
      "model_module_version": "1.5.0",
      "model_name": "DescriptionStyleModel",
      "state": {
       "description_width": ""
      }
     },
     "ef001dc997414d85aca2633b468adfdb": {
      "model_module": "@jupyter-widgets/base",
      "model_module_version": "1.2.0",
      "model_name": "LayoutModel",
      "state": {}
     },
     "ef88ceb5d81f4b57971443d9bcbabbe0": {
      "model_module": "@jupyter-widgets/controls",
      "model_module_version": "1.5.0",
      "model_name": "HTMLModel",
      "state": {
       "layout": "IPY_MODEL_7120309e0c2c45c7b76bce145a1a5ee2",
       "style": "IPY_MODEL_5b2b67267d934642813d8fcc6b79b950",
       "value": "Validation DataLoader 0: 100%"
      }
     },
     "f2242134cdc04e519b1500d5df1401f3": {
      "model_module": "@jupyter-widgets/controls",
      "model_module_version": "1.5.0",
      "model_name": "ProgressStyleModel",
      "state": {
       "description_width": ""
      }
     },
     "f2262727541040b9aac005e41b3f1e3f": {
      "model_module": "@jupyter-widgets/controls",
      "model_module_version": "1.5.0",
      "model_name": "HTMLModel",
      "state": {
       "layout": "IPY_MODEL_37329b881a9749ad9877420fa91bcd28",
       "style": "IPY_MODEL_ca83b2e5ca8947c7ad19878333119084",
       "value": " 235/235 [00:06&lt;00:00, 36.78it/s]"
      }
     },
     "f4ad1e5c1e554482b8dc15a5b5c9f512": {
      "model_module": "@jupyter-widgets/base",
      "model_module_version": "1.2.0",
      "model_name": "LayoutModel",
      "state": {}
     },
     "f75d30481bf84bda9d6cdc372c45a10e": {
      "model_module": "@jupyter-widgets/controls",
      "model_module_version": "1.5.0",
      "model_name": "FloatProgressModel",
      "state": {
       "bar_style": "success",
       "layout": "IPY_MODEL_fd5efde831e34b5798a54943d26a9538",
       "max": 235,
       "style": "IPY_MODEL_dc30a77a0bc84318a76104ae2d5e0a15",
       "value": 235
      }
     },
     "fa9cc5adbebc4a7594b62335cae44f7d": {
      "model_module": "@jupyter-widgets/controls",
      "model_module_version": "1.5.0",
      "model_name": "DescriptionStyleModel",
      "state": {
       "description_width": ""
      }
     },
     "fb7a945d7f534dc1a3a079ec05345273": {
      "model_module": "@jupyter-widgets/controls",
      "model_module_version": "1.5.0",
      "model_name": "DescriptionStyleModel",
      "state": {
       "description_width": ""
      }
     },
     "fd5efde831e34b5798a54943d26a9538": {
      "model_module": "@jupyter-widgets/base",
      "model_module_version": "1.2.0",
      "model_name": "LayoutModel",
      "state": {
       "flex": "2"
      }
     },
     "ff6bfd6e162b4318b411cb94a853b007": {
      "model_module": "@jupyter-widgets/controls",
      "model_module_version": "1.5.0",
      "model_name": "ProgressStyleModel",
      "state": {
       "description_width": ""
      }
     }
    },
    "version_major": 2,
    "version_minor": 0
   }
  }
 },
 "nbformat": 4,
 "nbformat_minor": 5
}
