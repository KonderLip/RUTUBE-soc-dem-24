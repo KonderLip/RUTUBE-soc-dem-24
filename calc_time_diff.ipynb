{
 "cells": [
  {
   "cell_type": "code",
   "execution_count": 1,
   "id": "9c8edba1-577e-496f-9cb2-40de579778df",
   "metadata": {},
   "outputs": [],
   "source": [
    "import os\n",
    "import polars as pl\n",
    "from dotenv import load_dotenv\n",
    "from langchain_community.chat_models import GigaChat\n",
    "from tqdm.auto import tqdm"
   ]
  },
  {
   "cell_type": "code",
   "execution_count": 2,
   "id": "3b0ba0a1-2942-417e-aa61-9ae8489048da",
   "metadata": {},
   "outputs": [
    {
     "data": {
      "text/plain": [
       "True"
      ]
     },
     "execution_count": 2,
     "metadata": {},
     "output_type": "execute_result"
    }
   ],
   "source": [
    "load_dotenv()"
   ]
  },
  {
   "cell_type": "code",
   "execution_count": 3,
   "id": "4a6101e7-7455-42d1-8d9d-d67292a4a210",
   "metadata": {},
   "outputs": [],
   "source": [
    "llm = GigaChat(\n",
    "    verify_ssl_certs=False,\n",
    "    model=\"GigaChat-Pro\",\n",
    "    credentials=os.environ.get(\"GIGACHAT_CREDENTIALS\"),\n",
    "    scope=os.environ.get(\"GIGACHAT_SCOPE\"),\n",
    ")"
   ]
  },
  {
   "cell_type": "code",
   "execution_count": 4,
   "id": "735eeb50-7043-4493-bd46-2971a10e5d55",
   "metadata": {},
   "outputs": [],
   "source": [
    "# LLM плохо знает часовые пояса, поэтому будет искать наиболее подходящий, используя список регионов\n",
    "prompt = \"\"\"Список регионов по часовым поясам:\n",
    "1) Калининградское время: Калининградская область;\n",
    "2) Московское время: города федерального значения Москва, Санкт-Петербург, Севастополь, Республика Адыгея, Республика Дагестан, Республика Ингушетия, Кабардино-Балкарская Республика, Республика Калмыкия, Карачаево-Черкесская Республика, Республика Карелия, Республика Коми, Республика Марий Эл, Республика Мордовия, Республика Северная Осетия — Алания, Республика Татарстан, Чеченская республика, Чувашская республика, Краснодарский край, Ставропольский край, Архангельская область, Астраханская область, Белгородская область, Брянская область, Владимирская область, Волгоградская область, Вологодская область, Воронежская область, Ивановская область, Калужская область, Кировская область, Костромская область, Курская область, Ленинградская область, Липецкая область, Московская область, Мурманская область, Нижегородская область, Новгородская область, Орловская область, Пензенская область, Псковская область, Ростовская область, Рязанская область, Саратовская область, Смоленская область, Тамбовская область, Тверская область, Тульская область, Ульяновская область, Ярославская область, Ненецкий автономный округ;\n",
    "3) Самарское время: Самарская область, Республика Удмуртия;\n",
    "4) Екатеринбургское время: Республика Башкортостан, Пермский край, Курганская область, Оренбургская область, Свердловская область, Тюменская область, Челябинская область, Ханты-Мансийский автономный округ — Югра и Россия: Ямало-Ненецкий автономный округ;\n",
    "5) Омское время: Республика Алтай, Алтайский край, Новосибирская область, Омская область, Томская область;\n",
    "6) Красноярское время: Республика Тыва, Республика Хакасия, Красноярский край, Кемеровская область;\n",
    "7) Иркутское время: Республика Бурятия, Забайкальский край, Иркутская область;\n",
    "8) Якутское время: часть Республики Саха (Якутия), Амурская область;\n",
    "9) Владивостокское время: часть Республики Саха (Якутия), Приморский край, Хабаровский край, Магаданская область, Сахалинская область (кроме Северо-Курильского района), Еврейская автономная область;\n",
    "10) Среднеколымское время: часть Республики Саха (Якутия), Сахалинская область (только Северо-Курильский район);\n",
    "11) Камчатское время: Камчатский край, Чукотский автономный округ.\n",
    "На вход подаётся название региона или города на английском языке. В качестве ответа напиши одно число — номер, к которому название наиболее сильно относится.\n",
    "< Примеры >\n",
    "Вход: Moscow\n",
    "Ответ: 2\n",
    "\n",
    "Вход: Irkutsk Oblast\n",
    "Ответ: 7\n",
    "< Конец примеров >\n",
    "Вход: {}\n",
    "Ответ:\n",
    "\"\"\""
   ]
  },
  {
   "cell_type": "code",
   "execution_count": 5,
   "id": "43d1baf9-2f4b-49dd-908d-7855b8402d9e",
   "metadata": {},
   "outputs": [],
   "source": [
    "regions = pl.read_csv(\"./data/all_events.csv\", columns=\"region\")[\"region\"].unique().sort()"
   ]
  },
  {
   "cell_type": "code",
   "execution_count": 6,
   "id": "3f88dd59-a93d-4bf9-a0eb-b0be87bc12c5",
   "metadata": {},
   "outputs": [
    {
     "data": {
      "application/vnd.jupyter.widget-view+json": {
       "model_id": "cca1d7ba0c634219afdd5d5d243b71dd",
       "version_major": 2,
       "version_minor": 0
      },
      "text/plain": [
       "  0%|          | 0/116 [00:00<?, ?it/s]"
      ]
     },
     "metadata": {},
     "output_type": "display_data"
    }
   ],
   "source": [
    "diffs = []\n",
    "for region in tqdm(regions):\n",
    "    result = llm.invoke(prompt.format(region))\n",
    "    diffs.append(int(result.content) + 1)"
   ]
  },
  {
   "cell_type": "code",
   "execution_count": 7,
   "id": "78faf17c-2f57-4830-8458-7f6df13341fc",
   "metadata": {},
   "outputs": [
    {
     "data": {
      "text/html": [
       "<div><style>\n",
       ".dataframe > thead > tr,\n",
       ".dataframe > tbody > tr {\n",
       "  text-align: right;\n",
       "  white-space: pre-wrap;\n",
       "}\n",
       "</style>\n",
       "<small>shape: (5, 2)</small><table border=\"1\" class=\"dataframe\"><thead><tr><th>region</th><th>diff</th></tr><tr><td>str</td><td>i64</td></tr></thead><tbody><tr><td>&quot;Adygeya Republic&quot;</td><td>3</td></tr><tr><td>&quot;Altai&quot;</td><td>6</td></tr><tr><td>&quot;Altay Kray&quot;</td><td>6</td></tr><tr><td>&quot;Amur Oblast&quot;</td><td>9</td></tr><tr><td>&quot;Arkhangelsk Oblast&quot;</td><td>3</td></tr></tbody></table></div>"
      ],
      "text/plain": [
       "shape: (5, 2)\n",
       "┌────────────────────┬──────┐\n",
       "│ region             ┆ diff │\n",
       "│ ---                ┆ ---  │\n",
       "│ str                ┆ i64  │\n",
       "╞════════════════════╪══════╡\n",
       "│ Adygeya Republic   ┆ 3    │\n",
       "│ Altai              ┆ 6    │\n",
       "│ Altay Kray         ┆ 6    │\n",
       "│ Amur Oblast        ┆ 9    │\n",
       "│ Arkhangelsk Oblast ┆ 3    │\n",
       "└────────────────────┴──────┘"
      ]
     },
     "execution_count": 7,
     "metadata": {},
     "output_type": "execute_result"
    }
   ],
   "source": [
    "time_diffs = pl.DataFrame({\"region\": regions, \"diff\": diffs})\n",
    "time_diffs.head()"
   ]
  },
  {
   "cell_type": "code",
   "execution_count": 8,
   "id": "3aa0a93d-ba6f-4147-84b2-5ecea4eac3eb",
   "metadata": {},
   "outputs": [],
   "source": [
    "time_diffs.write_parquet(\"./data/time_diffs.parquet\")"
   ]
  }
 ],
 "metadata": {
  "kernelspec": {
   "display_name": "Python 3 (ipykernel)",
   "language": "python",
   "name": "python3"
  },
  "language_info": {
   "codemirror_mode": {
    "name": "ipython",
    "version": 3
   },
   "file_extension": ".py",
   "mimetype": "text/x-python",
   "name": "python",
   "nbconvert_exporter": "python",
   "pygments_lexer": "ipython3",
   "version": "3.9.13"
  }
 },
 "nbformat": 4,
 "nbformat_minor": 5
}
